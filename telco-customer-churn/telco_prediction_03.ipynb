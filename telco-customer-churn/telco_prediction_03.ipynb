{
 "cells": [
  {
   "cell_type": "markdown",
   "metadata": {},
   "source": [
    "## 모델의 성능 개선하기\n",
    "* IBM sample datasets\n",
    "https://www.kaggle.com/blastchar/telco-customer-churn\n",
    "\n",
    "* Demographic info: \n",
    "    * Gender, SeniorCitizen, Partner, Dependents\n",
    "* Services subscribed: \n",
    "    * PhoneService, MultipleLine, InternetService, OnlineSecurity, OnlineBackup, DeviceProtection, TechSupport, StreamingTV, StreamingMovies\n",
    "* Customer account info:\n",
    "    * CustomerID, Contract, PaperlessBilling, PaymentMethod, MonthlyCharges, TotalCharges, Tenure"
   ]
  },
  {
   "cell_type": "code",
   "execution_count": 1,
   "metadata": {},
   "outputs": [],
   "source": [
    "import pandas as pd\n",
    "import numpy as np\n",
    "import seaborn as sns\n",
    "import matplotlib.pyplot as plt"
   ]
  },
  {
   "cell_type": "code",
   "execution_count": 2,
   "metadata": {},
   "outputs": [],
   "source": [
    "from IPython.display import set_matplotlib_formats\n",
    "\n",
    "set_matplotlib_formats('retina')"
   ]
  },
  {
   "cell_type": "markdown",
   "metadata": {},
   "source": [
    "## 데이터 로드하기\n",
    "* 전처리된 모델을 로드하기"
   ]
  },
  {
   "cell_type": "code",
   "execution_count": 3,
   "metadata": {},
   "outputs": [
    {
     "data": {
      "text/plain": [
       "(7043, 51)"
      ]
     },
     "execution_count": 3,
     "metadata": {},
     "output_type": "execute_result"
    }
   ],
   "source": [
    "df = pd.read_csv(\"data/telco_feature.csv\")\n",
    "df.shape"
   ]
  },
  {
   "cell_type": "code",
   "execution_count": 4,
   "metadata": {},
   "outputs": [],
   "source": [
    "# customerID 를 인덱스로 설정하기\n",
    "df = df.set_index(\"customerID\")"
   ]
  },
  {
   "cell_type": "code",
   "execution_count": 5,
   "metadata": {},
   "outputs": [
    {
     "data": {
      "text/html": [
       "<div>\n",
       "<style scoped>\n",
       "    .dataframe tbody tr th:only-of-type {\n",
       "        vertical-align: middle;\n",
       "    }\n",
       "\n",
       "    .dataframe tbody tr th {\n",
       "        vertical-align: top;\n",
       "    }\n",
       "\n",
       "    .dataframe thead th {\n",
       "        text-align: right;\n",
       "    }\n",
       "</style>\n",
       "<table border=\"1\" class=\"dataframe\">\n",
       "  <thead>\n",
       "    <tr style=\"text-align: right;\">\n",
       "      <th></th>\n",
       "      <th>gender</th>\n",
       "      <th>SeniorCitizen</th>\n",
       "      <th>Partner</th>\n",
       "      <th>Dependents</th>\n",
       "      <th>PhoneService</th>\n",
       "      <th>PaperlessBilling</th>\n",
       "      <th>Churn</th>\n",
       "      <th>totalcharges_group_0-2k</th>\n",
       "      <th>totalcharges_group_2k-4k</th>\n",
       "      <th>totalcharges_group_4k-6k</th>\n",
       "      <th>...</th>\n",
       "      <th>OnlineSecurity_No internet service</th>\n",
       "      <th>OnlineSecurity_Yes</th>\n",
       "      <th>PaymentMethod_Bank transfer (automatic)</th>\n",
       "      <th>PaymentMethod_Credit card (automatic)</th>\n",
       "      <th>PaymentMethod_Electronic check</th>\n",
       "      <th>PaymentMethod_Mailed check</th>\n",
       "      <th>monthlycharges_group_0-30</th>\n",
       "      <th>monthlycharges_group_30-70</th>\n",
       "      <th>monthlycharges_group_70-99</th>\n",
       "      <th>monthlycharges_group_99plus</th>\n",
       "    </tr>\n",
       "    <tr>\n",
       "      <th>customerID</th>\n",
       "      <th></th>\n",
       "      <th></th>\n",
       "      <th></th>\n",
       "      <th></th>\n",
       "      <th></th>\n",
       "      <th></th>\n",
       "      <th></th>\n",
       "      <th></th>\n",
       "      <th></th>\n",
       "      <th></th>\n",
       "      <th></th>\n",
       "      <th></th>\n",
       "      <th></th>\n",
       "      <th></th>\n",
       "      <th></th>\n",
       "      <th></th>\n",
       "      <th></th>\n",
       "      <th></th>\n",
       "      <th></th>\n",
       "      <th></th>\n",
       "      <th></th>\n",
       "    </tr>\n",
       "  </thead>\n",
       "  <tbody>\n",
       "    <tr>\n",
       "      <th>7590-VHVEG</th>\n",
       "      <td>False</td>\n",
       "      <td>0</td>\n",
       "      <td>True</td>\n",
       "      <td>False</td>\n",
       "      <td>False</td>\n",
       "      <td>True</td>\n",
       "      <td>False</td>\n",
       "      <td>1</td>\n",
       "      <td>0</td>\n",
       "      <td>0</td>\n",
       "      <td>...</td>\n",
       "      <td>0</td>\n",
       "      <td>0</td>\n",
       "      <td>0</td>\n",
       "      <td>0</td>\n",
       "      <td>1</td>\n",
       "      <td>0</td>\n",
       "      <td>1</td>\n",
       "      <td>0</td>\n",
       "      <td>0</td>\n",
       "      <td>0</td>\n",
       "    </tr>\n",
       "    <tr>\n",
       "      <th>5575-GNVDE</th>\n",
       "      <td>True</td>\n",
       "      <td>0</td>\n",
       "      <td>False</td>\n",
       "      <td>False</td>\n",
       "      <td>True</td>\n",
       "      <td>False</td>\n",
       "      <td>False</td>\n",
       "      <td>1</td>\n",
       "      <td>0</td>\n",
       "      <td>0</td>\n",
       "      <td>...</td>\n",
       "      <td>0</td>\n",
       "      <td>1</td>\n",
       "      <td>0</td>\n",
       "      <td>0</td>\n",
       "      <td>0</td>\n",
       "      <td>1</td>\n",
       "      <td>0</td>\n",
       "      <td>1</td>\n",
       "      <td>0</td>\n",
       "      <td>0</td>\n",
       "    </tr>\n",
       "    <tr>\n",
       "      <th>3668-QPYBK</th>\n",
       "      <td>True</td>\n",
       "      <td>0</td>\n",
       "      <td>False</td>\n",
       "      <td>False</td>\n",
       "      <td>True</td>\n",
       "      <td>True</td>\n",
       "      <td>True</td>\n",
       "      <td>1</td>\n",
       "      <td>0</td>\n",
       "      <td>0</td>\n",
       "      <td>...</td>\n",
       "      <td>0</td>\n",
       "      <td>1</td>\n",
       "      <td>0</td>\n",
       "      <td>0</td>\n",
       "      <td>0</td>\n",
       "      <td>1</td>\n",
       "      <td>0</td>\n",
       "      <td>1</td>\n",
       "      <td>0</td>\n",
       "      <td>0</td>\n",
       "    </tr>\n",
       "    <tr>\n",
       "      <th>7795-CFOCW</th>\n",
       "      <td>True</td>\n",
       "      <td>0</td>\n",
       "      <td>False</td>\n",
       "      <td>False</td>\n",
       "      <td>False</td>\n",
       "      <td>False</td>\n",
       "      <td>False</td>\n",
       "      <td>1</td>\n",
       "      <td>0</td>\n",
       "      <td>0</td>\n",
       "      <td>...</td>\n",
       "      <td>0</td>\n",
       "      <td>1</td>\n",
       "      <td>1</td>\n",
       "      <td>0</td>\n",
       "      <td>0</td>\n",
       "      <td>0</td>\n",
       "      <td>0</td>\n",
       "      <td>1</td>\n",
       "      <td>0</td>\n",
       "      <td>0</td>\n",
       "    </tr>\n",
       "    <tr>\n",
       "      <th>9237-HQITU</th>\n",
       "      <td>False</td>\n",
       "      <td>0</td>\n",
       "      <td>False</td>\n",
       "      <td>False</td>\n",
       "      <td>True</td>\n",
       "      <td>True</td>\n",
       "      <td>True</td>\n",
       "      <td>1</td>\n",
       "      <td>0</td>\n",
       "      <td>0</td>\n",
       "      <td>...</td>\n",
       "      <td>0</td>\n",
       "      <td>0</td>\n",
       "      <td>0</td>\n",
       "      <td>0</td>\n",
       "      <td>1</td>\n",
       "      <td>0</td>\n",
       "      <td>0</td>\n",
       "      <td>0</td>\n",
       "      <td>1</td>\n",
       "      <td>0</td>\n",
       "    </tr>\n",
       "  </tbody>\n",
       "</table>\n",
       "<p>5 rows × 50 columns</p>\n",
       "</div>"
      ],
      "text/plain": [
       "            gender  SeniorCitizen  Partner  Dependents  PhoneService  \\\n",
       "customerID                                                             \n",
       "7590-VHVEG   False              0     True       False         False   \n",
       "5575-GNVDE    True              0    False       False          True   \n",
       "3668-QPYBK    True              0    False       False          True   \n",
       "7795-CFOCW    True              0    False       False         False   \n",
       "9237-HQITU   False              0    False       False          True   \n",
       "\n",
       "            PaperlessBilling  Churn  totalcharges_group_0-2k  \\\n",
       "customerID                                                     \n",
       "7590-VHVEG              True  False                        1   \n",
       "5575-GNVDE             False  False                        1   \n",
       "3668-QPYBK              True   True                        1   \n",
       "7795-CFOCW             False  False                        1   \n",
       "9237-HQITU              True   True                        1   \n",
       "\n",
       "            totalcharges_group_2k-4k  totalcharges_group_4k-6k  ...  \\\n",
       "customerID                                                      ...   \n",
       "7590-VHVEG                         0                         0  ...   \n",
       "5575-GNVDE                         0                         0  ...   \n",
       "3668-QPYBK                         0                         0  ...   \n",
       "7795-CFOCW                         0                         0  ...   \n",
       "9237-HQITU                         0                         0  ...   \n",
       "\n",
       "            OnlineSecurity_No internet service  OnlineSecurity_Yes  \\\n",
       "customerID                                                           \n",
       "7590-VHVEG                                   0                   0   \n",
       "5575-GNVDE                                   0                   1   \n",
       "3668-QPYBK                                   0                   1   \n",
       "7795-CFOCW                                   0                   1   \n",
       "9237-HQITU                                   0                   0   \n",
       "\n",
       "            PaymentMethod_Bank transfer (automatic)  \\\n",
       "customerID                                            \n",
       "7590-VHVEG                                        0   \n",
       "5575-GNVDE                                        0   \n",
       "3668-QPYBK                                        0   \n",
       "7795-CFOCW                                        1   \n",
       "9237-HQITU                                        0   \n",
       "\n",
       "            PaymentMethod_Credit card (automatic)  \\\n",
       "customerID                                          \n",
       "7590-VHVEG                                      0   \n",
       "5575-GNVDE                                      0   \n",
       "3668-QPYBK                                      0   \n",
       "7795-CFOCW                                      0   \n",
       "9237-HQITU                                      0   \n",
       "\n",
       "            PaymentMethod_Electronic check  PaymentMethod_Mailed check  \\\n",
       "customerID                                                               \n",
       "7590-VHVEG                               1                           0   \n",
       "5575-GNVDE                               0                           1   \n",
       "3668-QPYBK                               0                           1   \n",
       "7795-CFOCW                               0                           0   \n",
       "9237-HQITU                               1                           0   \n",
       "\n",
       "            monthlycharges_group_0-30  monthlycharges_group_30-70  \\\n",
       "customerID                                                          \n",
       "7590-VHVEG                          1                           0   \n",
       "5575-GNVDE                          0                           1   \n",
       "3668-QPYBK                          0                           1   \n",
       "7795-CFOCW                          0                           1   \n",
       "9237-HQITU                          0                           0   \n",
       "\n",
       "            monthlycharges_group_70-99  monthlycharges_group_99plus  \n",
       "customerID                                                           \n",
       "7590-VHVEG                           0                            0  \n",
       "5575-GNVDE                           0                            0  \n",
       "3668-QPYBK                           0                            0  \n",
       "7795-CFOCW                           0                            0  \n",
       "9237-HQITU                           1                            0  \n",
       "\n",
       "[5 rows x 50 columns]"
      ]
     },
     "execution_count": 5,
     "metadata": {},
     "output_type": "execute_result"
    }
   ],
   "source": [
    "df.head()"
   ]
  },
  {
   "cell_type": "markdown",
   "metadata": {},
   "source": [
    "## 전처리"
   ]
  },
  {
   "cell_type": "code",
   "execution_count": 7,
   "metadata": {},
   "outputs": [],
   "source": [
    "# df[\"TotalCharges\"] = pd.to_numeric(df[\"TotalCharges\"], errors=\"coerce\")"
   ]
  },
  {
   "cell_type": "code",
   "execution_count": 8,
   "metadata": {},
   "outputs": [],
   "source": [
    "# 결측치를 채워주는 방법도 있지만 일단 제거하도록 합니다.\n",
    "df = df.dropna()"
   ]
  },
  {
   "cell_type": "code",
   "execution_count": 9,
   "metadata": {
    "scrolled": false
   },
   "outputs": [
    {
     "data": {
      "text/plain": [
       "False    5174\n",
       "True     1869\n",
       "Name: Churn, dtype: int64"
      ]
     },
     "execution_count": 9,
     "metadata": {},
     "output_type": "execute_result"
    }
   ],
   "source": [
    "df[\"Churn\"].value_counts()"
   ]
  },
  {
   "cell_type": "markdown",
   "metadata": {},
   "source": [
    "## 학습, 예측 데이터셋 나누기\n",
    "### 학습, 예측에 사용할 컬럼"
   ]
  },
  {
   "cell_type": "code",
   "execution_count": 10,
   "metadata": {},
   "outputs": [
    {
     "data": {
      "text/plain": [
       "gender                                     2\n",
       "SeniorCitizen                              2\n",
       "Partner                                    2\n",
       "Dependents                                 2\n",
       "PhoneService                               2\n",
       "PaperlessBilling                           2\n",
       "Churn                                      2\n",
       "totalcharges_group_0-2k                    2\n",
       "totalcharges_group_2k-4k                   2\n",
       "totalcharges_group_4k-6k                   2\n",
       "totalcharges_group_6kplus                  2\n",
       "OnlineBackup_No                            2\n",
       "OnlineBackup_No internet service           2\n",
       "OnlineBackup_Yes                           2\n",
       "Contract_Month-to-month                    2\n",
       "Contract_One year                          2\n",
       "Contract_Two year                          2\n",
       "StreamingTV_No                             2\n",
       "StreamingTV_No internet service            2\n",
       "StreamingTV_Yes                            2\n",
       "DeviceProtection_No                        2\n",
       "DeviceProtection_No internet service       2\n",
       "DeviceProtection_Yes                       2\n",
       "InternetService_DSL                        2\n",
       "InternetService_Fiber optic                2\n",
       "InternetService_No                         2\n",
       "MultipleLines_No                           2\n",
       "MultipleLines_No phone service             2\n",
       "MultipleLines_Yes                          2\n",
       "tenure_group_0-20                          2\n",
       "tenure_group_20-40                         2\n",
       "tenure_group_40-60                         2\n",
       "tenure_group_60plus                        2\n",
       "TechSupport_No                             2\n",
       "TechSupport_No internet service            2\n",
       "TechSupport_Yes                            2\n",
       "StreamingMovies_No                         2\n",
       "StreamingMovies_No internet service        2\n",
       "StreamingMovies_Yes                        2\n",
       "OnlineSecurity_No                          2\n",
       "OnlineSecurity_No internet service         2\n",
       "OnlineSecurity_Yes                         2\n",
       "PaymentMethod_Bank transfer (automatic)    2\n",
       "PaymentMethod_Credit card (automatic)      2\n",
       "PaymentMethod_Electronic check             2\n",
       "PaymentMethod_Mailed check                 2\n",
       "monthlycharges_group_0-30                  2\n",
       "monthlycharges_group_30-70                 2\n",
       "monthlycharges_group_70-99                 2\n",
       "monthlycharges_group_99plus                2\n",
       "dtype: int64"
      ]
     },
     "execution_count": 10,
     "metadata": {},
     "output_type": "execute_result"
    }
   ],
   "source": [
    "df.nunique()"
   ]
  },
  {
   "cell_type": "code",
   "execution_count": 11,
   "metadata": {},
   "outputs": [],
   "source": [
    "df.columns.tolist().remove(\"Churn\")"
   ]
  },
  {
   "cell_type": "code",
   "execution_count": 12,
   "metadata": {},
   "outputs": [
    {
     "data": {
      "text/plain": [
       "['gender',\n",
       " 'SeniorCitizen',\n",
       " 'Partner',\n",
       " 'Dependents',\n",
       " 'PhoneService',\n",
       " 'PaperlessBilling',\n",
       " 'totalcharges_group_0-2k',\n",
       " 'totalcharges_group_2k-4k',\n",
       " 'totalcharges_group_4k-6k',\n",
       " 'totalcharges_group_6kplus',\n",
       " 'OnlineBackup_No',\n",
       " 'OnlineBackup_No internet service',\n",
       " 'OnlineBackup_Yes',\n",
       " 'Contract_Month-to-month',\n",
       " 'Contract_One year',\n",
       " 'Contract_Two year',\n",
       " 'StreamingTV_No',\n",
       " 'StreamingTV_No internet service',\n",
       " 'StreamingTV_Yes',\n",
       " 'DeviceProtection_No',\n",
       " 'DeviceProtection_No internet service',\n",
       " 'DeviceProtection_Yes',\n",
       " 'InternetService_DSL',\n",
       " 'InternetService_Fiber optic',\n",
       " 'InternetService_No',\n",
       " 'MultipleLines_No',\n",
       " 'MultipleLines_No phone service',\n",
       " 'MultipleLines_Yes',\n",
       " 'tenure_group_0-20',\n",
       " 'tenure_group_20-40',\n",
       " 'tenure_group_40-60',\n",
       " 'tenure_group_60plus',\n",
       " 'TechSupport_No',\n",
       " 'TechSupport_No internet service',\n",
       " 'TechSupport_Yes',\n",
       " 'StreamingMovies_No',\n",
       " 'StreamingMovies_No internet service',\n",
       " 'StreamingMovies_Yes',\n",
       " 'OnlineSecurity_No',\n",
       " 'OnlineSecurity_No internet service',\n",
       " 'OnlineSecurity_Yes',\n",
       " 'PaymentMethod_Bank transfer (automatic)',\n",
       " 'PaymentMethod_Credit card (automatic)',\n",
       " 'PaymentMethod_Electronic check',\n",
       " 'PaymentMethod_Mailed check',\n",
       " 'monthlycharges_group_0-30',\n",
       " 'monthlycharges_group_30-70',\n",
       " 'monthlycharges_group_70-99',\n",
       " 'monthlycharges_group_99plus']"
      ]
     },
     "execution_count": 12,
     "metadata": {},
     "output_type": "execute_result"
    }
   ],
   "source": [
    "# 피처로 사용할 컬럼 지정하기\n",
    "# feature_names = [\"tenure\", \"MonthlyCharges\", \"TotalCharges\"]\n",
    "feature_names = df.columns.tolist()\n",
    "feature_names.remove(\"Churn\")\n",
    "feature_names"
   ]
  },
  {
   "cell_type": "markdown",
   "metadata": {},
   "source": [
    "### 정답값이자 예측해야 될 값"
   ]
  },
  {
   "cell_type": "code",
   "execution_count": 13,
   "metadata": {},
   "outputs": [
    {
     "data": {
      "text/plain": [
       "'Churn'"
      ]
     },
     "execution_count": 13,
     "metadata": {},
     "output_type": "execute_result"
    }
   ],
   "source": [
    "# label_name 이라는 변수에 예측할 컬럼의 이름을 담습니다.\n",
    "\n",
    "label_name = \"Churn\"\n",
    "label_name"
   ]
  },
  {
   "cell_type": "markdown",
   "metadata": {},
   "source": [
    "### 문제(feature)와 답안(label)을 나누기\n",
    "\n",
    "* X, y를 만들어 줍니다.\n",
    "* X는 feature, 독립변수, 예) 시험의 문제\n",
    "* y는 label, 종속변수, 예) 시험의 정답"
   ]
  },
  {
   "cell_type": "code",
   "execution_count": 14,
   "metadata": {},
   "outputs": [],
   "source": [
    "# X, y를 만들어 줍니다.\n",
    "X = df.drop(label_name, axis=1)\n",
    "y = df[label_name]"
   ]
  },
  {
   "cell_type": "markdown",
   "metadata": {},
   "source": [
    "### 학습, 예측 데이터셋 만들기\n",
    "* X_train : 학습 세트 만들기, 행렬, 판다스의 데이터프레임, 2차원 리스트(배열) 구조,  예) 시험의 기출문제\n",
    "* y_train : 정답 값을 만들기, 벡터, 판다스의 시리즈, 1차원 리스트(배열) 구조, 예) 기출문제의 정답\n",
    "* X_test : 예측에 사용할 데이터세트를 만듭니다. 예) 실전 시험 문제\n",
    "* y_test : 예측의 정답값 예) 실전 시험 문제의 정답"
   ]
  },
  {
   "cell_type": "code",
   "execution_count": 15,
   "metadata": {},
   "outputs": [],
   "source": [
    "# train_test_split 으로 데이터셋 나누기\n",
    "from sklearn.model_selection import train_test_split\n",
    "\n",
    "X_train, X_test, y_train, y_test = train_test_split(X, y, test_size=0.2, random_state=42)"
   ]
  },
  {
   "cell_type": "code",
   "execution_count": 16,
   "metadata": {},
   "outputs": [
    {
     "data": {
      "text/plain": [
       "((5634, 49), (1409, 49), (5634,), (1409,))"
      ]
     },
     "execution_count": 16,
     "metadata": {},
     "output_type": "execute_result"
    }
   ],
   "source": [
    "X_train.shape, X_test.shape, y_train.shape, y_test.shape"
   ]
  },
  {
   "cell_type": "code",
   "execution_count": 17,
   "metadata": {},
   "outputs": [
    {
     "data": {
      "text/html": [
       "<div>\n",
       "<style scoped>\n",
       "    .dataframe tbody tr th:only-of-type {\n",
       "        vertical-align: middle;\n",
       "    }\n",
       "\n",
       "    .dataframe tbody tr th {\n",
       "        vertical-align: top;\n",
       "    }\n",
       "\n",
       "    .dataframe thead th {\n",
       "        text-align: right;\n",
       "    }\n",
       "</style>\n",
       "<table border=\"1\" class=\"dataframe\">\n",
       "  <thead>\n",
       "    <tr style=\"text-align: right;\">\n",
       "      <th></th>\n",
       "      <th>gender</th>\n",
       "      <th>SeniorCitizen</th>\n",
       "      <th>Partner</th>\n",
       "      <th>Dependents</th>\n",
       "      <th>PhoneService</th>\n",
       "      <th>PaperlessBilling</th>\n",
       "      <th>totalcharges_group_0-2k</th>\n",
       "      <th>totalcharges_group_2k-4k</th>\n",
       "      <th>totalcharges_group_4k-6k</th>\n",
       "      <th>totalcharges_group_6kplus</th>\n",
       "      <th>...</th>\n",
       "      <th>OnlineSecurity_No internet service</th>\n",
       "      <th>OnlineSecurity_Yes</th>\n",
       "      <th>PaymentMethod_Bank transfer (automatic)</th>\n",
       "      <th>PaymentMethod_Credit card (automatic)</th>\n",
       "      <th>PaymentMethod_Electronic check</th>\n",
       "      <th>PaymentMethod_Mailed check</th>\n",
       "      <th>monthlycharges_group_0-30</th>\n",
       "      <th>monthlycharges_group_30-70</th>\n",
       "      <th>monthlycharges_group_70-99</th>\n",
       "      <th>monthlycharges_group_99plus</th>\n",
       "    </tr>\n",
       "    <tr>\n",
       "      <th>customerID</th>\n",
       "      <th></th>\n",
       "      <th></th>\n",
       "      <th></th>\n",
       "      <th></th>\n",
       "      <th></th>\n",
       "      <th></th>\n",
       "      <th></th>\n",
       "      <th></th>\n",
       "      <th></th>\n",
       "      <th></th>\n",
       "      <th></th>\n",
       "      <th></th>\n",
       "      <th></th>\n",
       "      <th></th>\n",
       "      <th></th>\n",
       "      <th></th>\n",
       "      <th></th>\n",
       "      <th></th>\n",
       "      <th></th>\n",
       "      <th></th>\n",
       "      <th></th>\n",
       "    </tr>\n",
       "  </thead>\n",
       "  <tbody>\n",
       "    <tr>\n",
       "      <th>4223-BKEOR</th>\n",
       "      <td>False</td>\n",
       "      <td>0</td>\n",
       "      <td>False</td>\n",
       "      <td>True</td>\n",
       "      <td>True</td>\n",
       "      <td>False</td>\n",
       "      <td>1</td>\n",
       "      <td>0</td>\n",
       "      <td>0</td>\n",
       "      <td>0</td>\n",
       "      <td>...</td>\n",
       "      <td>0</td>\n",
       "      <td>1</td>\n",
       "      <td>0</td>\n",
       "      <td>0</td>\n",
       "      <td>0</td>\n",
       "      <td>1</td>\n",
       "      <td>0</td>\n",
       "      <td>1</td>\n",
       "      <td>0</td>\n",
       "      <td>0</td>\n",
       "    </tr>\n",
       "    <tr>\n",
       "      <th>6035-RIIOM</th>\n",
       "      <td>False</td>\n",
       "      <td>0</td>\n",
       "      <td>False</td>\n",
       "      <td>False</td>\n",
       "      <td>True</td>\n",
       "      <td>True</td>\n",
       "      <td>0</td>\n",
       "      <td>0</td>\n",
       "      <td>1</td>\n",
       "      <td>0</td>\n",
       "      <td>...</td>\n",
       "      <td>0</td>\n",
       "      <td>0</td>\n",
       "      <td>1</td>\n",
       "      <td>0</td>\n",
       "      <td>0</td>\n",
       "      <td>0</td>\n",
       "      <td>0</td>\n",
       "      <td>0</td>\n",
       "      <td>1</td>\n",
       "      <td>0</td>\n",
       "    </tr>\n",
       "    <tr>\n",
       "      <th>3797-VTIDR</th>\n",
       "      <td>True</td>\n",
       "      <td>0</td>\n",
       "      <td>True</td>\n",
       "      <td>False</td>\n",
       "      <td>False</td>\n",
       "      <td>True</td>\n",
       "      <td>1</td>\n",
       "      <td>0</td>\n",
       "      <td>0</td>\n",
       "      <td>0</td>\n",
       "      <td>...</td>\n",
       "      <td>0</td>\n",
       "      <td>0</td>\n",
       "      <td>0</td>\n",
       "      <td>0</td>\n",
       "      <td>1</td>\n",
       "      <td>0</td>\n",
       "      <td>1</td>\n",
       "      <td>0</td>\n",
       "      <td>0</td>\n",
       "      <td>0</td>\n",
       "    </tr>\n",
       "  </tbody>\n",
       "</table>\n",
       "<p>3 rows × 49 columns</p>\n",
       "</div>"
      ],
      "text/plain": [
       "            gender  SeniorCitizen  Partner  Dependents  PhoneService  \\\n",
       "customerID                                                             \n",
       "4223-BKEOR   False              0    False        True          True   \n",
       "6035-RIIOM   False              0    False       False          True   \n",
       "3797-VTIDR    True              0     True       False         False   \n",
       "\n",
       "            PaperlessBilling  totalcharges_group_0-2k  \\\n",
       "customerID                                              \n",
       "4223-BKEOR             False                        1   \n",
       "6035-RIIOM              True                        0   \n",
       "3797-VTIDR              True                        1   \n",
       "\n",
       "            totalcharges_group_2k-4k  totalcharges_group_4k-6k  \\\n",
       "customerID                                                       \n",
       "4223-BKEOR                         0                         0   \n",
       "6035-RIIOM                         0                         1   \n",
       "3797-VTIDR                         0                         0   \n",
       "\n",
       "            totalcharges_group_6kplus  ...  \\\n",
       "customerID                             ...   \n",
       "4223-BKEOR                          0  ...   \n",
       "6035-RIIOM                          0  ...   \n",
       "3797-VTIDR                          0  ...   \n",
       "\n",
       "            OnlineSecurity_No internet service  OnlineSecurity_Yes  \\\n",
       "customerID                                                           \n",
       "4223-BKEOR                                   0                   1   \n",
       "6035-RIIOM                                   0                   0   \n",
       "3797-VTIDR                                   0                   0   \n",
       "\n",
       "            PaymentMethod_Bank transfer (automatic)  \\\n",
       "customerID                                            \n",
       "4223-BKEOR                                        0   \n",
       "6035-RIIOM                                        1   \n",
       "3797-VTIDR                                        0   \n",
       "\n",
       "            PaymentMethod_Credit card (automatic)  \\\n",
       "customerID                                          \n",
       "4223-BKEOR                                      0   \n",
       "6035-RIIOM                                      0   \n",
       "3797-VTIDR                                      0   \n",
       "\n",
       "            PaymentMethod_Electronic check  PaymentMethod_Mailed check  \\\n",
       "customerID                                                               \n",
       "4223-BKEOR                               0                           1   \n",
       "6035-RIIOM                               0                           0   \n",
       "3797-VTIDR                               1                           0   \n",
       "\n",
       "            monthlycharges_group_0-30  monthlycharges_group_30-70  \\\n",
       "customerID                                                          \n",
       "4223-BKEOR                          0                           1   \n",
       "6035-RIIOM                          0                           0   \n",
       "3797-VTIDR                          1                           0   \n",
       "\n",
       "            monthlycharges_group_70-99  monthlycharges_group_99plus  \n",
       "customerID                                                           \n",
       "4223-BKEOR                           0                            0  \n",
       "6035-RIIOM                           1                            0  \n",
       "3797-VTIDR                           0                            0  \n",
       "\n",
       "[3 rows x 49 columns]"
      ]
     },
     "execution_count": 17,
     "metadata": {},
     "output_type": "execute_result"
    }
   ],
   "source": [
    "X_train.head(3)"
   ]
  },
  {
   "cell_type": "code",
   "execution_count": 18,
   "metadata": {},
   "outputs": [
    {
     "data": {
      "text/html": [
       "<div>\n",
       "<style scoped>\n",
       "    .dataframe tbody tr th:only-of-type {\n",
       "        vertical-align: middle;\n",
       "    }\n",
       "\n",
       "    .dataframe tbody tr th {\n",
       "        vertical-align: top;\n",
       "    }\n",
       "\n",
       "    .dataframe thead th {\n",
       "        text-align: right;\n",
       "    }\n",
       "</style>\n",
       "<table border=\"1\" class=\"dataframe\">\n",
       "  <thead>\n",
       "    <tr style=\"text-align: right;\">\n",
       "      <th></th>\n",
       "      <th>gender</th>\n",
       "      <th>SeniorCitizen</th>\n",
       "      <th>Partner</th>\n",
       "      <th>Dependents</th>\n",
       "      <th>PhoneService</th>\n",
       "      <th>PaperlessBilling</th>\n",
       "      <th>totalcharges_group_0-2k</th>\n",
       "      <th>totalcharges_group_2k-4k</th>\n",
       "      <th>totalcharges_group_4k-6k</th>\n",
       "      <th>totalcharges_group_6kplus</th>\n",
       "      <th>...</th>\n",
       "      <th>OnlineSecurity_No internet service</th>\n",
       "      <th>OnlineSecurity_Yes</th>\n",
       "      <th>PaymentMethod_Bank transfer (automatic)</th>\n",
       "      <th>PaymentMethod_Credit card (automatic)</th>\n",
       "      <th>PaymentMethod_Electronic check</th>\n",
       "      <th>PaymentMethod_Mailed check</th>\n",
       "      <th>monthlycharges_group_0-30</th>\n",
       "      <th>monthlycharges_group_30-70</th>\n",
       "      <th>monthlycharges_group_70-99</th>\n",
       "      <th>monthlycharges_group_99plus</th>\n",
       "    </tr>\n",
       "    <tr>\n",
       "      <th>customerID</th>\n",
       "      <th></th>\n",
       "      <th></th>\n",
       "      <th></th>\n",
       "      <th></th>\n",
       "      <th></th>\n",
       "      <th></th>\n",
       "      <th></th>\n",
       "      <th></th>\n",
       "      <th></th>\n",
       "      <th></th>\n",
       "      <th></th>\n",
       "      <th></th>\n",
       "      <th></th>\n",
       "      <th></th>\n",
       "      <th></th>\n",
       "      <th></th>\n",
       "      <th></th>\n",
       "      <th></th>\n",
       "      <th></th>\n",
       "      <th></th>\n",
       "      <th></th>\n",
       "    </tr>\n",
       "  </thead>\n",
       "  <tbody>\n",
       "    <tr>\n",
       "      <th>1024-GUALD</th>\n",
       "      <td>False</td>\n",
       "      <td>0</td>\n",
       "      <td>True</td>\n",
       "      <td>False</td>\n",
       "      <td>False</td>\n",
       "      <td>True</td>\n",
       "      <td>1</td>\n",
       "      <td>0</td>\n",
       "      <td>0</td>\n",
       "      <td>0</td>\n",
       "      <td>...</td>\n",
       "      <td>0</td>\n",
       "      <td>0</td>\n",
       "      <td>0</td>\n",
       "      <td>0</td>\n",
       "      <td>1</td>\n",
       "      <td>0</td>\n",
       "      <td>1</td>\n",
       "      <td>0</td>\n",
       "      <td>0</td>\n",
       "      <td>0</td>\n",
       "    </tr>\n",
       "    <tr>\n",
       "      <th>0484-JPBRU</th>\n",
       "      <td>True</td>\n",
       "      <td>0</td>\n",
       "      <td>False</td>\n",
       "      <td>False</td>\n",
       "      <td>True</td>\n",
       "      <td>True</td>\n",
       "      <td>1</td>\n",
       "      <td>0</td>\n",
       "      <td>0</td>\n",
       "      <td>0</td>\n",
       "      <td>...</td>\n",
       "      <td>1</td>\n",
       "      <td>0</td>\n",
       "      <td>1</td>\n",
       "      <td>0</td>\n",
       "      <td>0</td>\n",
       "      <td>0</td>\n",
       "      <td>1</td>\n",
       "      <td>0</td>\n",
       "      <td>0</td>\n",
       "      <td>0</td>\n",
       "    </tr>\n",
       "    <tr>\n",
       "      <th>3620-EHIMZ</th>\n",
       "      <td>False</td>\n",
       "      <td>0</td>\n",
       "      <td>True</td>\n",
       "      <td>True</td>\n",
       "      <td>True</td>\n",
       "      <td>False</td>\n",
       "      <td>1</td>\n",
       "      <td>0</td>\n",
       "      <td>0</td>\n",
       "      <td>0</td>\n",
       "      <td>...</td>\n",
       "      <td>1</td>\n",
       "      <td>0</td>\n",
       "      <td>0</td>\n",
       "      <td>0</td>\n",
       "      <td>0</td>\n",
       "      <td>1</td>\n",
       "      <td>1</td>\n",
       "      <td>0</td>\n",
       "      <td>0</td>\n",
       "      <td>0</td>\n",
       "    </tr>\n",
       "  </tbody>\n",
       "</table>\n",
       "<p>3 rows × 49 columns</p>\n",
       "</div>"
      ],
      "text/plain": [
       "            gender  SeniorCitizen  Partner  Dependents  PhoneService  \\\n",
       "customerID                                                             \n",
       "1024-GUALD   False              0     True       False         False   \n",
       "0484-JPBRU    True              0    False       False          True   \n",
       "3620-EHIMZ   False              0     True        True          True   \n",
       "\n",
       "            PaperlessBilling  totalcharges_group_0-2k  \\\n",
       "customerID                                              \n",
       "1024-GUALD              True                        1   \n",
       "0484-JPBRU              True                        1   \n",
       "3620-EHIMZ             False                        1   \n",
       "\n",
       "            totalcharges_group_2k-4k  totalcharges_group_4k-6k  \\\n",
       "customerID                                                       \n",
       "1024-GUALD                         0                         0   \n",
       "0484-JPBRU                         0                         0   \n",
       "3620-EHIMZ                         0                         0   \n",
       "\n",
       "            totalcharges_group_6kplus  ...  \\\n",
       "customerID                             ...   \n",
       "1024-GUALD                          0  ...   \n",
       "0484-JPBRU                          0  ...   \n",
       "3620-EHIMZ                          0  ...   \n",
       "\n",
       "            OnlineSecurity_No internet service  OnlineSecurity_Yes  \\\n",
       "customerID                                                           \n",
       "1024-GUALD                                   0                   0   \n",
       "0484-JPBRU                                   1                   0   \n",
       "3620-EHIMZ                                   1                   0   \n",
       "\n",
       "            PaymentMethod_Bank transfer (automatic)  \\\n",
       "customerID                                            \n",
       "1024-GUALD                                        0   \n",
       "0484-JPBRU                                        1   \n",
       "3620-EHIMZ                                        0   \n",
       "\n",
       "            PaymentMethod_Credit card (automatic)  \\\n",
       "customerID                                          \n",
       "1024-GUALD                                      0   \n",
       "0484-JPBRU                                      0   \n",
       "3620-EHIMZ                                      0   \n",
       "\n",
       "            PaymentMethod_Electronic check  PaymentMethod_Mailed check  \\\n",
       "customerID                                                               \n",
       "1024-GUALD                               1                           0   \n",
       "0484-JPBRU                               0                           0   \n",
       "3620-EHIMZ                               0                           1   \n",
       "\n",
       "            monthlycharges_group_0-30  monthlycharges_group_30-70  \\\n",
       "customerID                                                          \n",
       "1024-GUALD                          1                           0   \n",
       "0484-JPBRU                          1                           0   \n",
       "3620-EHIMZ                          1                           0   \n",
       "\n",
       "            monthlycharges_group_70-99  monthlycharges_group_99plus  \n",
       "customerID                                                           \n",
       "1024-GUALD                           0                            0  \n",
       "0484-JPBRU                           0                            0  \n",
       "3620-EHIMZ                           0                            0  \n",
       "\n",
       "[3 rows x 49 columns]"
      ]
     },
     "execution_count": 18,
     "metadata": {},
     "output_type": "execute_result"
    }
   ],
   "source": [
    "X_test.head(3)"
   ]
  },
  {
   "cell_type": "code",
   "execution_count": 19,
   "metadata": {},
   "outputs": [
    {
     "data": {
      "text/plain": [
       "customerID\n",
       "4223-BKEOR    False\n",
       "6035-RIIOM    False\n",
       "Name: Churn, dtype: bool"
      ]
     },
     "execution_count": 19,
     "metadata": {},
     "output_type": "execute_result"
    }
   ],
   "source": [
    "y_train.head(2)"
   ]
  },
  {
   "cell_type": "markdown",
   "metadata": {},
   "source": [
    "## 여러개의 머신러닝 모델로 성능 비교하기"
   ]
  },
  {
   "cell_type": "code",
   "execution_count": 20,
   "metadata": {},
   "outputs": [
    {
     "data": {
      "text/plain": [
       "[DecisionTreeClassifier(ccp_alpha=0.0, class_weight=None, criterion='gini',\n",
       "                        max_depth=None, max_features=None, max_leaf_nodes=None,\n",
       "                        min_impurity_decrease=0.0, min_impurity_split=None,\n",
       "                        min_samples_leaf=1, min_samples_split=2,\n",
       "                        min_weight_fraction_leaf=0.0, presort='deprecated',\n",
       "                        random_state=42, splitter='best'),\n",
       " RandomForestClassifier(bootstrap=True, ccp_alpha=0.0, class_weight=None,\n",
       "                        criterion='gini', max_depth=None, max_features='auto',\n",
       "                        max_leaf_nodes=None, max_samples=None,\n",
       "                        min_impurity_decrease=0.0, min_impurity_split=None,\n",
       "                        min_samples_leaf=1, min_samples_split=2,\n",
       "                        min_weight_fraction_leaf=0.0, n_estimators=100,\n",
       "                        n_jobs=None, oob_score=False, random_state=42, verbose=0,\n",
       "                        warm_start=False),\n",
       " GradientBoostingClassifier(ccp_alpha=0.0, criterion='friedman_mse', init=None,\n",
       "                            learning_rate=0.1, loss='deviance', max_depth=3,\n",
       "                            max_features=None, max_leaf_nodes=None,\n",
       "                            min_impurity_decrease=0.0, min_impurity_split=None,\n",
       "                            min_samples_leaf=1, min_samples_split=2,\n",
       "                            min_weight_fraction_leaf=0.0, n_estimators=100,\n",
       "                            n_iter_no_change=None, presort='deprecated',\n",
       "                            random_state=42, subsample=1.0, tol=0.0001,\n",
       "                            validation_fraction=0.1, verbose=0,\n",
       "                            warm_start=False)]"
      ]
     },
     "execution_count": 20,
     "metadata": {},
     "output_type": "execute_result"
    }
   ],
   "source": [
    "from sklearn.tree import DecisionTreeClassifier\n",
    "from sklearn.ensemble import RandomForestClassifier, GradientBoostingClassifier\n",
    "\n",
    "estimators = [DecisionTreeClassifier(random_state=42),\n",
    "             RandomForestClassifier(random_state=42),\n",
    "             GradientBoostingClassifier(random_state=42)\n",
    "            ]\n",
    "estimators"
   ]
  },
  {
   "cell_type": "code",
   "execution_count": 21,
   "metadata": {},
   "outputs": [
    {
     "data": {
      "text/plain": [
       "array([11, 18, 10, 10,  8,  2, 18,  5,  2,  3])"
      ]
     },
     "execution_count": 21,
     "metadata": {},
     "output_type": "execute_result"
    }
   ],
   "source": [
    "max_depth = np.random.randint(2, 20, 10)\n",
    "max_depth"
   ]
  },
  {
   "cell_type": "code",
   "execution_count": 22,
   "metadata": {},
   "outputs": [
    {
     "data": {
      "text/plain": [
       "array([0.49592346, 0.85405886, 0.67264651, 0.4490611 , 0.66561272,\n",
       "       0.91403871, 0.41666475, 0.87103641, 0.91876906, 0.4816114 ])"
      ]
     },
     "execution_count": 22,
     "metadata": {},
     "output_type": "execute_result"
    }
   ],
   "source": [
    "max_features = np.random.uniform(0.3, 1.0, 10)\n",
    "max_features"
   ]
  },
  {
   "cell_type": "code",
   "execution_count": 23,
   "metadata": {},
   "outputs": [
    {
     "data": {
      "text/plain": [
       "[['DecisionTreeClassifier'],\n",
       " ['RandomForestClassifier'],\n",
       " ['GradientBoostingClassifier']]"
      ]
     },
     "execution_count": 23,
     "metadata": {},
     "output_type": "execute_result"
    }
   ],
   "source": [
    "results = []\n",
    "for estimator in estimators:\n",
    "    result = []\n",
    "    result.append(estimator.__class__.__name__)\n",
    "    results.append(result)\n",
    "results"
   ]
  },
  {
   "cell_type": "code",
   "execution_count": 24,
   "metadata": {},
   "outputs": [
    {
     "name": "stdout",
     "output_type": "stream",
     "text": [
      "Fitting 5 folds for each of 10 candidates, totalling 50 fits\n"
     ]
    },
    {
     "name": "stderr",
     "output_type": "stream",
     "text": [
      "[Parallel(n_jobs=-1)]: Using backend LokyBackend with 4 concurrent workers.\n",
      "[Parallel(n_jobs=-1)]: Done  34 tasks      | elapsed:    2.7s\n",
      "[Parallel(n_jobs=-1)]: Done  50 out of  50 | elapsed:    2.9s finished\n"
     ]
    },
    {
     "name": "stdout",
     "output_type": "stream",
     "text": [
      "Fitting 5 folds for each of 10 candidates, totalling 50 fits\n"
     ]
    },
    {
     "name": "stderr",
     "output_type": "stream",
     "text": [
      "[Parallel(n_jobs=-1)]: Using backend LokyBackend with 4 concurrent workers.\n",
      "[Parallel(n_jobs=-1)]: Done  33 tasks      | elapsed:   27.6s\n",
      "[Parallel(n_jobs=-1)]: Done  50 out of  50 | elapsed:   36.3s finished\n"
     ]
    },
    {
     "name": "stdout",
     "output_type": "stream",
     "text": [
      "Fitting 5 folds for each of 10 candidates, totalling 50 fits\n"
     ]
    },
    {
     "name": "stderr",
     "output_type": "stream",
     "text": [
      "[Parallel(n_jobs=-1)]: Using backend LokyBackend with 4 concurrent workers.\n",
      "[Parallel(n_jobs=-1)]: Done  33 tasks      | elapsed:  1.5min\n",
      "[Parallel(n_jobs=-1)]: Done  50 out of  50 | elapsed:  2.3min finished\n"
     ]
    }
   ],
   "source": [
    "from sklearn.model_selection import RandomizedSearchCV\n",
    "\n",
    "max_depth = np.random.randint(2, 20, 10)\n",
    "max_features = np.random.uniform(0.3, 1.0, 10)\n",
    "\n",
    "param_distributions = {\"max_depth\": max_depth, \n",
    "                       \"max_features\": max_features}\n",
    "\n",
    "results = []\n",
    "for estimator in estimators:\n",
    "    result = []\n",
    "    if estimator.__class__.__name__ != 'DecisionTreeClassifier':\n",
    "        param_distributions[\"n_estimators\"] = np.random.randint(100, 200, 10)\n",
    "        \n",
    "    clf = RandomizedSearchCV(estimator, \n",
    "                       param_distributions, \n",
    "                       n_iter=10,\n",
    "                       scoring=\"accuracy\",\n",
    "                       n_jobs=-1,\n",
    "                       cv=5, \n",
    "                       verbose=2\n",
    "                      )\n",
    "\n",
    "    clf.fit(X_train, y_train)\n",
    "    result.append(estimator.__class__.__name__)\n",
    "    result.append(clf.best_params_)\n",
    "    result.append(clf.best_score_)\n",
    "    result.append(clf.score(X_test, y_test))\n",
    "    result.append(clf.cv_results_)\n",
    "    results.append(result)"
   ]
  },
  {
   "cell_type": "code",
   "execution_count": 28,
   "metadata": {},
   "outputs": [
    {
     "data": {
      "text/html": [
       "<div>\n",
       "<style scoped>\n",
       "    .dataframe tbody tr th:only-of-type {\n",
       "        vertical-align: middle;\n",
       "    }\n",
       "\n",
       "    .dataframe tbody tr th {\n",
       "        vertical-align: top;\n",
       "    }\n",
       "\n",
       "    .dataframe thead th {\n",
       "        text-align: right;\n",
       "    }\n",
       "</style>\n",
       "<table border=\"1\" class=\"dataframe\">\n",
       "  <thead>\n",
       "    <tr style=\"text-align: right;\">\n",
       "      <th></th>\n",
       "      <th>estimator</th>\n",
       "      <th>best_params</th>\n",
       "      <th>train_score</th>\n",
       "      <th>test_score</th>\n",
       "      <th>cv_result</th>\n",
       "    </tr>\n",
       "  </thead>\n",
       "  <tbody>\n",
       "    <tr>\n",
       "      <th>0</th>\n",
       "      <td>DecisionTreeClassifier</td>\n",
       "      <td>{'max_features': 0.7613495153246995, 'max_dept...</td>\n",
       "      <td>0.788072</td>\n",
       "      <td>0.802697</td>\n",
       "      <td>{'mean_fit_time': [0.07343616485595703, 0.0401...</td>\n",
       "    </tr>\n",
       "    <tr>\n",
       "      <th>1</th>\n",
       "      <td>RandomForestClassifier</td>\n",
       "      <td>{'n_estimators': 143, 'max_features': 0.887330...</td>\n",
       "      <td>0.792688</td>\n",
       "      <td>0.814762</td>\n",
       "      <td>{'mean_fit_time': [3.0198354721069336, 2.31851...</td>\n",
       "    </tr>\n",
       "    <tr>\n",
       "      <th>2</th>\n",
       "      <td>GradientBoostingClassifier</td>\n",
       "      <td>{'n_estimators': 130, 'max_features': 0.916520...</td>\n",
       "      <td>0.776002</td>\n",
       "      <td>0.792761</td>\n",
       "      <td>{'mean_fit_time': [10.959122705459595, 13.3410...</td>\n",
       "    </tr>\n",
       "  </tbody>\n",
       "</table>\n",
       "</div>"
      ],
      "text/plain": [
       "                    estimator  \\\n",
       "0      DecisionTreeClassifier   \n",
       "1      RandomForestClassifier   \n",
       "2  GradientBoostingClassifier   \n",
       "\n",
       "                                         best_params  train_score  test_score  \\\n",
       "0  {'max_features': 0.7613495153246995, 'max_dept...     0.788072    0.802697   \n",
       "1  {'n_estimators': 143, 'max_features': 0.887330...     0.792688    0.814762   \n",
       "2  {'n_estimators': 130, 'max_features': 0.916520...     0.776002    0.792761   \n",
       "\n",
       "                                           cv_result  \n",
       "0  {'mean_fit_time': [0.07343616485595703, 0.0401...  \n",
       "1  {'mean_fit_time': [3.0198354721069336, 2.31851...  \n",
       "2  {'mean_fit_time': [10.959122705459595, 13.3410...  "
      ]
     },
     "execution_count": 28,
     "metadata": {},
     "output_type": "execute_result"
    }
   ],
   "source": [
    "df_result = pd.DataFrame(results, \n",
    "             columns=[\"estimator\", \"best_params\", \"train_score\", \"test_score\", \"cv_result\"])\n",
    "df_result"
   ]
  },
  {
   "cell_type": "code",
   "execution_count": 31,
   "metadata": {
    "scrolled": false
   },
   "outputs": [
    {
     "data": {
      "text/html": [
       "<div>\n",
       "<style scoped>\n",
       "    .dataframe tbody tr th:only-of-type {\n",
       "        vertical-align: middle;\n",
       "    }\n",
       "\n",
       "    .dataframe tbody tr th {\n",
       "        vertical-align: top;\n",
       "    }\n",
       "\n",
       "    .dataframe thead th {\n",
       "        text-align: right;\n",
       "    }\n",
       "</style>\n",
       "<table border=\"1\" class=\"dataframe\">\n",
       "  <thead>\n",
       "    <tr style=\"text-align: right;\">\n",
       "      <th></th>\n",
       "      <th>mean_fit_time</th>\n",
       "      <th>std_fit_time</th>\n",
       "      <th>mean_score_time</th>\n",
       "      <th>std_score_time</th>\n",
       "      <th>param_n_estimators</th>\n",
       "      <th>param_max_features</th>\n",
       "      <th>param_max_depth</th>\n",
       "      <th>params</th>\n",
       "      <th>split0_test_score</th>\n",
       "      <th>split1_test_score</th>\n",
       "      <th>split2_test_score</th>\n",
       "      <th>split3_test_score</th>\n",
       "      <th>split4_test_score</th>\n",
       "      <th>mean_test_score</th>\n",
       "      <th>std_test_score</th>\n",
       "      <th>rank_test_score</th>\n",
       "    </tr>\n",
       "  </thead>\n",
       "  <tbody>\n",
       "    <tr>\n",
       "      <th>6</th>\n",
       "      <td>1.674146</td>\n",
       "      <td>0.022401</td>\n",
       "      <td>0.051539</td>\n",
       "      <td>0.003611</td>\n",
       "      <td>143</td>\n",
       "      <td>0.88733</td>\n",
       "      <td>5</td>\n",
       "      <td>{'n_estimators': 143, 'max_features': 0.887330...</td>\n",
       "      <td>0.808341</td>\n",
       "      <td>0.802130</td>\n",
       "      <td>0.770186</td>\n",
       "      <td>0.787933</td>\n",
       "      <td>0.794849</td>\n",
       "      <td>0.792688</td>\n",
       "      <td>0.013174</td>\n",
       "      <td>1</td>\n",
       "    </tr>\n",
       "    <tr>\n",
       "      <th>1</th>\n",
       "      <td>2.318511</td>\n",
       "      <td>0.285656</td>\n",
       "      <td>0.079648</td>\n",
       "      <td>0.036076</td>\n",
       "      <td>139</td>\n",
       "      <td>0.777699</td>\n",
       "      <td>5</td>\n",
       "      <td>{'n_estimators': 139, 'max_features': 0.777699...</td>\n",
       "      <td>0.806566</td>\n",
       "      <td>0.803904</td>\n",
       "      <td>0.769299</td>\n",
       "      <td>0.785271</td>\n",
       "      <td>0.796625</td>\n",
       "      <td>0.792333</td>\n",
       "      <td>0.013677</td>\n",
       "      <td>2</td>\n",
       "    </tr>\n",
       "    <tr>\n",
       "      <th>3</th>\n",
       "      <td>2.213580</td>\n",
       "      <td>0.261897</td>\n",
       "      <td>0.068028</td>\n",
       "      <td>0.004575</td>\n",
       "      <td>186</td>\n",
       "      <td>0.76135</td>\n",
       "      <td>5</td>\n",
       "      <td>{'n_estimators': 186, 'max_features': 0.761349...</td>\n",
       "      <td>0.807453</td>\n",
       "      <td>0.803904</td>\n",
       "      <td>0.770186</td>\n",
       "      <td>0.784383</td>\n",
       "      <td>0.793961</td>\n",
       "      <td>0.791978</td>\n",
       "      <td>0.013551</td>\n",
       "      <td>3</td>\n",
       "    </tr>\n",
       "    <tr>\n",
       "      <th>7</th>\n",
       "      <td>0.751989</td>\n",
       "      <td>0.046298</td>\n",
       "      <td>0.032609</td>\n",
       "      <td>0.001561</td>\n",
       "      <td>101</td>\n",
       "      <td>0.58126</td>\n",
       "      <td>3</td>\n",
       "      <td>{'n_estimators': 101, 'max_features': 0.581259...</td>\n",
       "      <td>0.796806</td>\n",
       "      <td>0.795918</td>\n",
       "      <td>0.771074</td>\n",
       "      <td>0.779947</td>\n",
       "      <td>0.786856</td>\n",
       "      <td>0.786120</td>\n",
       "      <td>0.009749</td>\n",
       "      <td>4</td>\n",
       "    </tr>\n",
       "    <tr>\n",
       "      <th>2</th>\n",
       "      <td>3.357595</td>\n",
       "      <td>0.617950</td>\n",
       "      <td>0.083492</td>\n",
       "      <td>0.031915</td>\n",
       "      <td>143</td>\n",
       "      <td>0.76135</td>\n",
       "      <td>10</td>\n",
       "      <td>{'n_estimators': 143, 'max_features': 0.761349...</td>\n",
       "      <td>0.782609</td>\n",
       "      <td>0.785271</td>\n",
       "      <td>0.772848</td>\n",
       "      <td>0.780834</td>\n",
       "      <td>0.785968</td>\n",
       "      <td>0.781506</td>\n",
       "      <td>0.004705</td>\n",
       "      <td>5</td>\n",
       "    </tr>\n",
       "    <tr>\n",
       "      <th>9</th>\n",
       "      <td>2.556403</td>\n",
       "      <td>0.565844</td>\n",
       "      <td>0.062748</td>\n",
       "      <td>0.016771</td>\n",
       "      <td>160</td>\n",
       "      <td>0.88733</td>\n",
       "      <td>12</td>\n",
       "      <td>{'n_estimators': 160, 'max_features': 0.887330...</td>\n",
       "      <td>0.779059</td>\n",
       "      <td>0.773736</td>\n",
       "      <td>0.755102</td>\n",
       "      <td>0.767524</td>\n",
       "      <td>0.772647</td>\n",
       "      <td>0.769614</td>\n",
       "      <td>0.008129</td>\n",
       "      <td>6</td>\n",
       "    </tr>\n",
       "    <tr>\n",
       "      <th>8</th>\n",
       "      <td>2.736171</td>\n",
       "      <td>0.053859</td>\n",
       "      <td>0.067396</td>\n",
       "      <td>0.005478</td>\n",
       "      <td>136</td>\n",
       "      <td>0.999485</td>\n",
       "      <td>12</td>\n",
       "      <td>{'n_estimators': 136, 'max_features': 0.999484...</td>\n",
       "      <td>0.773736</td>\n",
       "      <td>0.768412</td>\n",
       "      <td>0.758651</td>\n",
       "      <td>0.769299</td>\n",
       "      <td>0.774423</td>\n",
       "      <td>0.768904</td>\n",
       "      <td>0.005645</td>\n",
       "      <td>7</td>\n",
       "    </tr>\n",
       "    <tr>\n",
       "      <th>0</th>\n",
       "      <td>3.019835</td>\n",
       "      <td>0.191678</td>\n",
       "      <td>0.103214</td>\n",
       "      <td>0.064883</td>\n",
       "      <td>139</td>\n",
       "      <td>0.76135</td>\n",
       "      <td>15</td>\n",
       "      <td>{'n_estimators': 139, 'max_features': 0.761349...</td>\n",
       "      <td>0.771074</td>\n",
       "      <td>0.766637</td>\n",
       "      <td>0.755102</td>\n",
       "      <td>0.767524</td>\n",
       "      <td>0.757549</td>\n",
       "      <td>0.763577</td>\n",
       "      <td>0.006153</td>\n",
       "      <td>8</td>\n",
       "    </tr>\n",
       "    <tr>\n",
       "      <th>5</th>\n",
       "      <td>4.458190</td>\n",
       "      <td>0.648021</td>\n",
       "      <td>0.097690</td>\n",
       "      <td>0.024600</td>\n",
       "      <td>173</td>\n",
       "      <td>0.971658</td>\n",
       "      <td>15</td>\n",
       "      <td>{'n_estimators': 173, 'max_features': 0.971657...</td>\n",
       "      <td>0.768412</td>\n",
       "      <td>0.757764</td>\n",
       "      <td>0.755989</td>\n",
       "      <td>0.769299</td>\n",
       "      <td>0.758437</td>\n",
       "      <td>0.761980</td>\n",
       "      <td>0.005677</td>\n",
       "      <td>9</td>\n",
       "    </tr>\n",
       "    <tr>\n",
       "      <th>4</th>\n",
       "      <td>4.262308</td>\n",
       "      <td>0.187890</td>\n",
       "      <td>0.088069</td>\n",
       "      <td>0.021039</td>\n",
       "      <td>139</td>\n",
       "      <td>0.88733</td>\n",
       "      <td>17</td>\n",
       "      <td>{'n_estimators': 139, 'max_features': 0.887330...</td>\n",
       "      <td>0.765750</td>\n",
       "      <td>0.759539</td>\n",
       "      <td>0.758651</td>\n",
       "      <td>0.765750</td>\n",
       "      <td>0.759325</td>\n",
       "      <td>0.761803</td>\n",
       "      <td>0.003236</td>\n",
       "      <td>10</td>\n",
       "    </tr>\n",
       "  </tbody>\n",
       "</table>\n",
       "</div>"
      ],
      "text/plain": [
       "   mean_fit_time  std_fit_time  mean_score_time  std_score_time  \\\n",
       "6       1.674146      0.022401         0.051539        0.003611   \n",
       "1       2.318511      0.285656         0.079648        0.036076   \n",
       "3       2.213580      0.261897         0.068028        0.004575   \n",
       "7       0.751989      0.046298         0.032609        0.001561   \n",
       "2       3.357595      0.617950         0.083492        0.031915   \n",
       "9       2.556403      0.565844         0.062748        0.016771   \n",
       "8       2.736171      0.053859         0.067396        0.005478   \n",
       "0       3.019835      0.191678         0.103214        0.064883   \n",
       "5       4.458190      0.648021         0.097690        0.024600   \n",
       "4       4.262308      0.187890         0.088069        0.021039   \n",
       "\n",
       "  param_n_estimators param_max_features param_max_depth  \\\n",
       "6                143            0.88733               5   \n",
       "1                139           0.777699               5   \n",
       "3                186            0.76135               5   \n",
       "7                101            0.58126               3   \n",
       "2                143            0.76135              10   \n",
       "9                160            0.88733              12   \n",
       "8                136           0.999485              12   \n",
       "0                139            0.76135              15   \n",
       "5                173           0.971658              15   \n",
       "4                139            0.88733              17   \n",
       "\n",
       "                                              params  split0_test_score  \\\n",
       "6  {'n_estimators': 143, 'max_features': 0.887330...           0.808341   \n",
       "1  {'n_estimators': 139, 'max_features': 0.777699...           0.806566   \n",
       "3  {'n_estimators': 186, 'max_features': 0.761349...           0.807453   \n",
       "7  {'n_estimators': 101, 'max_features': 0.581259...           0.796806   \n",
       "2  {'n_estimators': 143, 'max_features': 0.761349...           0.782609   \n",
       "9  {'n_estimators': 160, 'max_features': 0.887330...           0.779059   \n",
       "8  {'n_estimators': 136, 'max_features': 0.999484...           0.773736   \n",
       "0  {'n_estimators': 139, 'max_features': 0.761349...           0.771074   \n",
       "5  {'n_estimators': 173, 'max_features': 0.971657...           0.768412   \n",
       "4  {'n_estimators': 139, 'max_features': 0.887330...           0.765750   \n",
       "\n",
       "   split1_test_score  split2_test_score  split3_test_score  split4_test_score  \\\n",
       "6           0.802130           0.770186           0.787933           0.794849   \n",
       "1           0.803904           0.769299           0.785271           0.796625   \n",
       "3           0.803904           0.770186           0.784383           0.793961   \n",
       "7           0.795918           0.771074           0.779947           0.786856   \n",
       "2           0.785271           0.772848           0.780834           0.785968   \n",
       "9           0.773736           0.755102           0.767524           0.772647   \n",
       "8           0.768412           0.758651           0.769299           0.774423   \n",
       "0           0.766637           0.755102           0.767524           0.757549   \n",
       "5           0.757764           0.755989           0.769299           0.758437   \n",
       "4           0.759539           0.758651           0.765750           0.759325   \n",
       "\n",
       "   mean_test_score  std_test_score  rank_test_score  \n",
       "6         0.792688        0.013174                1  \n",
       "1         0.792333        0.013677                2  \n",
       "3         0.791978        0.013551                3  \n",
       "7         0.786120        0.009749                4  \n",
       "2         0.781506        0.004705                5  \n",
       "9         0.769614        0.008129                6  \n",
       "8         0.768904        0.005645                7  \n",
       "0         0.763577        0.006153                8  \n",
       "5         0.761980        0.005677                9  \n",
       "4         0.761803        0.003236               10  "
      ]
     },
     "execution_count": 31,
     "metadata": {},
     "output_type": "execute_result"
    }
   ],
   "source": [
    "pd.DataFrame(df_result.loc[1, \"cv_result\"]).sort_values(by=\"rank_test_score\")"
   ]
  },
  {
   "cell_type": "code",
   "execution_count": 34,
   "metadata": {},
   "outputs": [
    {
     "data": {
      "text/html": [
       "<div>\n",
       "<style scoped>\n",
       "    .dataframe tbody tr th:only-of-type {\n",
       "        vertical-align: middle;\n",
       "    }\n",
       "\n",
       "    .dataframe tbody tr th {\n",
       "        vertical-align: top;\n",
       "    }\n",
       "\n",
       "    .dataframe thead th {\n",
       "        text-align: right;\n",
       "    }\n",
       "</style>\n",
       "<table border=\"1\" class=\"dataframe\">\n",
       "  <thead>\n",
       "    <tr style=\"text-align: right;\">\n",
       "      <th></th>\n",
       "      <th>estimator</th>\n",
       "      <th>best_params</th>\n",
       "      <th>train_score</th>\n",
       "      <th>test_score</th>\n",
       "      <th>cv_result</th>\n",
       "    </tr>\n",
       "  </thead>\n",
       "  <tbody>\n",
       "    <tr>\n",
       "      <th>0</th>\n",
       "      <td>DecisionTreeClassifier</td>\n",
       "      <td>{'max_features': 0.7613495153246995, 'max_dept...</td>\n",
       "      <td>0.788072</td>\n",
       "      <td>0.802697</td>\n",
       "      <td>{'mean_fit_time': [0.07343616485595703, 0.0401...</td>\n",
       "    </tr>\n",
       "    <tr>\n",
       "      <th>1</th>\n",
       "      <td>RandomForestClassifier</td>\n",
       "      <td>{'n_estimators': 143, 'max_features': 0.887330...</td>\n",
       "      <td>0.792688</td>\n",
       "      <td>0.814762</td>\n",
       "      <td>{'mean_fit_time': [3.0198354721069336, 2.31851...</td>\n",
       "    </tr>\n",
       "    <tr>\n",
       "      <th>2</th>\n",
       "      <td>GradientBoostingClassifier</td>\n",
       "      <td>{'n_estimators': 130, 'max_features': 0.916520...</td>\n",
       "      <td>0.776002</td>\n",
       "      <td>0.792761</td>\n",
       "      <td>{'mean_fit_time': [10.959122705459595, 13.3410...</td>\n",
       "    </tr>\n",
       "  </tbody>\n",
       "</table>\n",
       "</div>"
      ],
      "text/plain": [
       "                    estimator  \\\n",
       "0      DecisionTreeClassifier   \n",
       "1      RandomForestClassifier   \n",
       "2  GradientBoostingClassifier   \n",
       "\n",
       "                                         best_params  train_score  test_score  \\\n",
       "0  {'max_features': 0.7613495153246995, 'max_dept...     0.788072    0.802697   \n",
       "1  {'n_estimators': 143, 'max_features': 0.887330...     0.792688    0.814762   \n",
       "2  {'n_estimators': 130, 'max_features': 0.916520...     0.776002    0.792761   \n",
       "\n",
       "                                           cv_result  \n",
       "0  {'mean_fit_time': [0.07343616485595703, 0.0401...  \n",
       "1  {'mean_fit_time': [3.0198354721069336, 2.31851...  \n",
       "2  {'mean_fit_time': [10.959122705459595, 13.3410...  "
      ]
     },
     "execution_count": 34,
     "metadata": {},
     "output_type": "execute_result"
    }
   ],
   "source": [
    "df_result"
   ]
  },
  {
   "cell_type": "code",
   "execution_count": 38,
   "metadata": {},
   "outputs": [
    {
     "data": {
      "text/plain": [
       "{'n_estimators': 143, 'max_features': 0.8873303376641575, 'max_depth': 5}"
      ]
     },
     "execution_count": 38,
     "metadata": {},
     "output_type": "execute_result"
    }
   ],
   "source": [
    "best_params = df_result.loc[1, \"best_params\"]\n",
    "best_params"
   ]
  },
  {
   "cell_type": "code",
   "execution_count": 45,
   "metadata": {},
   "outputs": [
    {
     "data": {
      "text/plain": [
       "RandomForestClassifier(bootstrap=True, ccp_alpha=0.0, class_weight=None,\n",
       "                       criterion='gini', max_depth=5,\n",
       "                       max_features=0.8873303376641575, max_leaf_nodes=None,\n",
       "                       max_samples=None, min_impurity_decrease=0.0,\n",
       "                       min_impurity_split=None, min_samples_leaf=1,\n",
       "                       min_samples_split=2, min_weight_fraction_leaf=0.0,\n",
       "                       n_estimators=143, n_jobs=None, oob_score=False,\n",
       "                       random_state=42, verbose=0, warm_start=False)"
      ]
     },
     "execution_count": 45,
     "metadata": {},
     "output_type": "execute_result"
    }
   ],
   "source": [
    "model = RandomForestClassifier(n_estimators=best_params[\"n_estimators\"], \n",
    "                               max_features=best_params[\"max_features\"], \n",
    "                               max_depth=best_params[\"max_depth\"], \n",
    "                               random_state=42)\n",
    "model"
   ]
  },
  {
   "cell_type": "code",
   "execution_count": 46,
   "metadata": {},
   "outputs": [
    {
     "data": {
      "text/plain": [
       "RandomForestClassifier(bootstrap=True, ccp_alpha=0.0, class_weight=None,\n",
       "                       criterion='gini', max_depth=5,\n",
       "                       max_features=0.8873303376641575, max_leaf_nodes=None,\n",
       "                       max_samples=None, min_impurity_decrease=0.0,\n",
       "                       min_impurity_split=None, min_samples_leaf=1,\n",
       "                       min_samples_split=2, min_weight_fraction_leaf=0.0,\n",
       "                       n_estimators=143, n_jobs=None, oob_score=False,\n",
       "                       random_state=42, verbose=0, warm_start=False)"
      ]
     },
     "execution_count": 46,
     "metadata": {},
     "output_type": "execute_result"
    }
   ],
   "source": [
    "model.fit(X_train, y_train)"
   ]
  },
  {
   "cell_type": "code",
   "execution_count": 48,
   "metadata": {},
   "outputs": [],
   "source": [
    "y_pred = model.predict(X_test)"
   ]
  },
  {
   "cell_type": "markdown",
   "metadata": {},
   "source": [
    "## 모델 평가하기"
   ]
  },
  {
   "cell_type": "code",
   "execution_count": 51,
   "metadata": {},
   "outputs": [],
   "source": [
    "# 피처의 중요도를 추출하기\n",
    "\n",
    "importances = pd.DataFrame({\"importances\" : model.feature_importances_, \n",
    "              \"feature_names\" :feature_names})\n",
    "importances = importances.sort_values(\"importances\", ascending=False).head(10)"
   ]
  },
  {
   "cell_type": "code",
   "execution_count": 54,
   "metadata": {},
   "outputs": [
    {
     "data": {
      "text/plain": [
       "<matplotlib.axes._subplots.AxesSubplot at 0x7f8afed76250>"
      ]
     },
     "execution_count": 54,
     "metadata": {},
     "output_type": "execute_result"
    },
    {
     "data": {
      "image/png": "[encoded data removed]",
      "text/plain": [
       "<Figure size 720x504 with 1 Axes>"
      ]
     },
     "metadata": {
      "image/png": {
       "height": 424,
       "width": 762
      },
      "needs_background": "light"
     },
     "output_type": "display_data"
    }
   ],
   "source": [
    "# 피처의 중요도 시각화 하기\n",
    "plt.figure(figsize=(10, 7))\n",
    "sns.barplot(data=importances, x=\"importances\", y=\"feature_names\")"
   ]
  },
  {
   "cell_type": "markdown",
   "metadata": {},
   "source": [
    "### 점수 측정하기\n",
    "#### Accuracy"
   ]
  },
  {
   "cell_type": "code",
   "execution_count": 57,
   "metadata": {},
   "outputs": [
    {
     "data": {
      "text/plain": [
       "0.8147622427253371"
      ]
     },
     "execution_count": 57,
     "metadata": {},
     "output_type": "execute_result"
    }
   ],
   "source": [
    "from sklearn.metrics import accuracy_score\n",
    "\n",
    "accuracy_score(y_test, y_pred)"
   ]
  },
  {
   "cell_type": "code",
   "execution_count": 58,
   "metadata": {},
   "outputs": [
    {
     "data": {
      "text/plain": [
       "0.8147622427253371"
      ]
     },
     "execution_count": 58,
     "metadata": {},
     "output_type": "execute_result"
    }
   ],
   "source": [
    "(y_test == y_pred).mean()"
   ]
  },
  {
   "cell_type": "markdown",
   "metadata": {},
   "source": [
    "#### F1 score\n",
    "* precision 과 recall의 조화평균\n",
    "* [정밀도와 재현율 - 위키백과, 우리 모두의 백과사전](https://ko.wikipedia.org/wiki/%EC%A0%95%EB%B0%80%EB%8F%84%EC%99%80_%EC%9E%AC%ED%98%84%EC%9C%A8)"
   ]
  },
  {
   "cell_type": "code",
   "execution_count": 59,
   "metadata": {},
   "outputs": [
    {
     "data": {
      "text/plain": [
       "<sklearn.metrics._plot.confusion_matrix.ConfusionMatrixDisplay at 0x7f8afcc2e5d0>"
      ]
     },
     "execution_count": 59,
     "metadata": {},
     "output_type": "execute_result"
    },
    {
     "data": {
      "image/png": "[encoded data removed]",
      "text/plain": [
       "<Figure size 432x288 with 2 Axes>"
      ]
     },
     "metadata": {
      "image/png": {
       "height": 261,
       "width": 337
      },
      "needs_background": "light"
     },
     "output_type": "display_data"
    }
   ],
   "source": [
    "# plot_confusion_matrix 를 그립니다.\n",
    "from sklearn.metrics import plot_confusion_matrix\n",
    "\n",
    "plot_confusion_matrix(model, X_train, y_train)"
   ]
  },
  {
   "cell_type": "code",
   "execution_count": 61,
   "metadata": {},
   "outputs": [
    {
     "name": "stdout",
     "output_type": "stream",
     "text": [
      "              precision    recall  f1-score   support\n",
      "\n",
      "       False       0.84      0.93      0.88      1036\n",
      "        True       0.72      0.50      0.59       373\n",
      "\n",
      "    accuracy                           0.81      1409\n",
      "   macro avg       0.78      0.71      0.73      1409\n",
      "weighted avg       0.80      0.81      0.80      1409\n",
      "\n"
     ]
    }
   ],
   "source": [
    "from sklearn.metrics import classification_report\n",
    "\n",
    "report = classification_report(y_test, y_pred)\n",
    "print(report)"
   ]
  },
  {
   "cell_type": "code",
   "execution_count": null,
   "metadata": {},
   "outputs": [],
   "source": []
  },
  {
   "cell_type": "code",
   "execution_count": null,
   "metadata": {},
   "outputs": [],
   "source": []
  }
 ],
 "metadata": {
  "kernelspec": {
   "display_name": "Python 3",
   "language": "python",
   "name": "python3"
  },
  "language_info": {
   "codemirror_mode": {
    "name": "ipython",
    "version": 3
   },
   "file_extension": ".py",
   "mimetype": "text/x-python",
   "name": "python",
   "nbconvert_exporter": "python",
   "pygments_lexer": "ipython3",
   "version": "3.7.6"
  },
  "toc": {
   "base_numbering": 1,
   "nav_menu": {},
   "number_sections": true,
   "sideBar": true,
   "skip_h1_title": false,
   "title_cell": "Table of Contents",
   "title_sidebar": "Contents",
   "toc_cell": false,
   "toc_position": {},
   "toc_section_display": true,
   "toc_window_display": true
  },
  "varInspector": {
   "cols": {
    "lenName": 16,
    "lenType": 16,
    "lenVar": 40
   },
   "kernels_config": {
    "python": {
     "delete_cmd_postfix": "",
     "delete_cmd_prefix": "del ",
     "library": "var_list.py",
     "varRefreshCmd": "print(var_dic_list())"
    },
    "r": {
     "delete_cmd_postfix": ") ",
     "delete_cmd_prefix": "rm(",
     "library": "var_list.r",
     "varRefreshCmd": "cat(var_dic_list()) "
    }
   },
   "types_to_exclude": [
    "module",
    "function",
    "builtin_function_or_method",
    "instance",
    "_Feature"
   ],
   "window_display": false
  }
 },
 "nbformat": 4,
 "nbformat_minor": 4
}
