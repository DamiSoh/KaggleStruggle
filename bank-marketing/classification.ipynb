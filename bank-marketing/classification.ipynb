{
 "cells": [
  {
   "cell_type": "code",
   "execution_count": 1,
   "metadata": {},
   "outputs": [],
   "source": [
    "import numpy as np\n",
    "import pandas as pd\n",
    "import matplotlib.pyplot as plt\n",
    "import seaborn as sns"
   ]
  },
  {
   "cell_type": "code",
   "execution_count": 23,
   "metadata": {},
   "outputs": [],
   "source": [
    "from sklearn.model_selection import train_test_split\n",
    "from xgboost import XGBClassifier\n",
    "from sklearn.metrics import confusion_matrix,accuracy_score\n",
    "from sklearn.model_selection import cross_val_score,GridSearchCV\n",
    "from sklearn.ensemble import RandomForestClassifier, AdaBoostClassifier, GradientBoostingClassifier, ExtraTreesClassifier, VotingClassifier\n",
    "from sklearn.discriminant_analysis import LinearDiscriminantAnalysis\n",
    "from sklearn.linear_model import LogisticRegression\n",
    "from sklearn.neighbors import KNeighborsClassifier\n",
    "from sklearn.tree import DecisionTreeClassifier\n",
    "from sklearn.neural_network import MLPClassifier\n",
    "from sklearn.svm import SVC\n",
    "from lightgbm import LGBMClassifier\n",
    "from catboost import CatBoostClassifier, cv, Pool\n",
    "from sklearn.model_selection import GridSearchCV, cross_val_score, StratifiedKFold, learning_curve"
   ]
  },
  {
   "cell_type": "code",
   "execution_count": 29,
   "metadata": {},
   "outputs": [
    {
     "data": {
      "text/plain": [
       "(11162, 17)"
      ]
     },
     "execution_count": 29,
     "metadata": {},
     "output_type": "execute_result"
    }
   ],
   "source": [
    "df = pd.read_csv(\"data/bank.csv\")\n",
    "df.shape"
   ]
  },
  {
   "cell_type": "code",
   "execution_count": 30,
   "metadata": {},
   "outputs": [
    {
     "data": {
      "text/plain": [
       "Index(['age', 'job', 'marital', 'education', 'default', 'balance', 'housing',\n",
       "       'loan', 'contact', 'day', 'month', 'duration', 'campaign', 'pdays',\n",
       "       'previous', 'poutcome', 'deposit'],\n",
       "      dtype='object')"
      ]
     },
     "execution_count": 30,
     "metadata": {},
     "output_type": "execute_result"
    }
   ],
   "source": [
    "df.columns"
   ]
  },
  {
   "cell_type": "code",
   "execution_count": 31,
   "metadata": {},
   "outputs": [],
   "source": [
    "label_name = \"deposit\""
   ]
  },
  {
   "cell_type": "markdown",
   "metadata": {},
   "source": [
    "https://www.kaggle.com/medyasun/who-are-the-term-deposit-customers-85-accuracy"
   ]
  },
  {
   "cell_type": "code",
   "execution_count": 32,
   "metadata": {},
   "outputs": [
    {
     "data": {
      "text/plain": [
       "deposit                1.000000\n",
       "poutcome_success       0.286642\n",
       "contact_cellular       0.223252\n",
       "housing_no             0.203888\n",
       "pdays                  0.151593\n",
       "previous               0.139867\n",
       "month_mar              0.135438\n",
       "month_oct              0.133783\n",
       "month_sep              0.126901\n",
       "loan_no                0.110580\n",
       "job_retired            0.103827\n",
       "job_student            0.099953\n",
       "marital_single         0.094632\n",
       "education_tertiary     0.094598\n",
       "month_apr              0.090975\n",
       "month_dec              0.086964\n",
       "balance                0.081129\n",
       "month_feb              0.051710\n",
       "poutcome_other         0.044059\n",
       "default_no             0.040680\n",
       "job_management         0.036301\n",
       "age                    0.034901\n",
       "job_unemployed         0.033487\n",
       "poutcome_failure       0.020714\n",
       "contact_telephone      0.016420\n",
       "education_unknown      0.014355\n",
       "marital_divorced       0.005228\n",
       "job_unknown            0.001889\n",
       "job_admin.            -0.000610\n",
       "job_self-employed     -0.004707\n",
       "job_technician        -0.011557\n",
       "month_aug             -0.016621\n",
       "month_jun             -0.018982\n",
       "month_jan             -0.021803\n",
       "job_housemaid         -0.024155\n",
       "month_nov             -0.028278\n",
       "job_entrepreneur      -0.034443\n",
       "default_yes           -0.040680\n",
       "job_services          -0.044531\n",
       "month_jul             -0.047368\n",
       "education_secondary   -0.051952\n",
       "day                   -0.056326\n",
       "education_primary     -0.063002\n",
       "marital_married       -0.092157\n",
       "job_blue-collar       -0.100840\n",
       "loan_yes              -0.110580\n",
       "campaign              -0.128081\n",
       "month_may             -0.170507\n",
       "housing_yes           -0.203888\n",
       "poutcome_unknown      -0.230470\n",
       "contact_unknown       -0.256136\n",
       "Name: deposit, dtype: float64"
      ]
     },
     "execution_count": 32,
     "metadata": {},
     "output_type": "execute_result"
    }
   ],
   "source": [
    "df.drop(labels = ['duration'], axis = 1, inplace = True)\n",
    "df['deposit']=df['deposit'].map({'yes':1,'no':0})\n",
    "df = pd.get_dummies(df, columns=['job','marital','education', 'month', 'default', 'housing',\n",
    " 'loan', 'contact', 'poutcome'])\n",
    "# , 'age_bin','balance_cat','pdays_bin','day_cat','day_bins','month_bins'])\n",
    "cor_deposit=df.corr()\n",
    "cor_deposit[\"deposit\"].sort_values(ascending=False)"
   ]
  },
  {
   "cell_type": "code",
   "execution_count": 33,
   "metadata": {},
   "outputs": [
    {
     "data": {
      "text/plain": [
       "0        1\n",
       "1        1\n",
       "2        1\n",
       "3        1\n",
       "4        1\n",
       "        ..\n",
       "11157    0\n",
       "11158    0\n",
       "11159    0\n",
       "11160    0\n",
       "11161    0\n",
       "Name: deposit, Length: 11162, dtype: int64"
      ]
     },
     "execution_count": 33,
     "metadata": {},
     "output_type": "execute_result"
    }
   ],
   "source": [
    "df['deposit'].astype(int)"
   ]
  },
  {
   "cell_type": "code",
   "execution_count": 34,
   "metadata": {},
   "outputs": [
    {
     "data": {
      "text/plain": [
       "((8371, 50), (2791, 50), (8371,), (2791,))"
      ]
     },
     "execution_count": 34,
     "metadata": {},
     "output_type": "execute_result"
    }
   ],
   "source": [
    "x_train=df.drop(labels=['deposit'],axis=1)\n",
    "y_train=df['deposit'].astype(int)\n",
    "X_train,X_test,Y_train,Y_test = train_test_split(x_train,y_train,test_size=0.25, random_state=2)\n",
    "\n",
    "X_train.shape, X_test.shape, Y_train.shape, Y_test.shape"
   ]
  },
  {
   "cell_type": "code",
   "execution_count": 35,
   "metadata": {},
   "outputs": [],
   "source": [
    "kfold = StratifiedKFold(n_splits=10)"
   ]
  },
  {
   "cell_type": "code",
   "execution_count": 38,
   "metadata": {},
   "outputs": [],
   "source": [
    "random_state = 42\n",
    "classifiers = []\n",
    "classifiers.append(SVC(random_state=random_state))\n",
    "classifiers.append(DecisionTreeClassifier(random_state=random_state))\n",
    "classifiers.append(AdaBoostClassifier(DecisionTreeClassifier(random_state=random_state),\n",
    "                                      random_state=random_state,learning_rate=0.1))\n",
    "classifiers.append(RandomForestClassifier(random_state=random_state))\n",
    "classifiers.append(ExtraTreesClassifier(random_state=random_state))\n",
    "classifiers.append(GradientBoostingClassifier(random_state=random_state))\n",
    "\n",
    "classifiers.append(MLPClassifier(random_state=random_state))\n",
    "classifiers.append(KNeighborsClassifier())\n",
    "classifiers.append(LogisticRegression(random_state = random_state))\n",
    "classifiers.append(LinearDiscriminantAnalysis())\n",
    "\n",
    "classifiers.append(XGBClassifier(random_state = random_state))\n",
    "classifiers.append(LGBMClassifier(random_state = random_state))\n",
    "classifiers.append(CatBoostClassifier())"
   ]
  },
  {
   "cell_type": "code",
   "execution_count": 47,
   "metadata": {},
   "outputs": [
    {
     "name": "stdout",
     "output_type": "stream",
     "text": [
      "SVC\n",
      "DecisionTreeClassifier\n",
      "AdaBoostClassifier\n",
      "RandomForestClassifier\n",
      "ExtraTreesClassifier\n",
      "GradientBoostingClassifier\n",
      "MLPClassifier\n",
      "KNeighborsClassifier\n",
      "LogisticRegression\n",
      "LinearDiscriminantAnalysis\n",
      "XGBClassifier\n",
      "LGBMClassifier\n",
      "CatBoostClassifier\n"
     ]
    }
   ],
   "source": [
    "for c in classifiers:\n",
    "    print(c.__class__.__name__)"
   ]
  },
  {
   "cell_type": "code",
   "execution_count": 37,
   "metadata": {},
   "outputs": [
    {
     "name": "stderr",
     "output_type": "stream",
     "text": [
      "/Users/corazzon/opt/anaconda3/lib/python3.7/site-packages/joblib/externals/loky/process_executor.py:706: UserWarning: A worker stopped while some jobs were given to the executor. This can be caused by a too short worker timeout or by a memory leak.\n",
      "  \"timeout or by a memory leak.\", UserWarning\n"
     ]
    },
    {
     "data": {
      "text/html": [
       "<div>\n",
       "<style scoped>\n",
       "    .dataframe tbody tr th:only-of-type {\n",
       "        vertical-align: middle;\n",
       "    }\n",
       "\n",
       "    .dataframe tbody tr th {\n",
       "        vertical-align: top;\n",
       "    }\n",
       "\n",
       "    .dataframe thead th {\n",
       "        text-align: right;\n",
       "    }\n",
       "</style>\n",
       "<table border=\"1\" class=\"dataframe\">\n",
       "  <thead>\n",
       "    <tr style=\"text-align: right;\">\n",
       "      <th></th>\n",
       "      <th>CrossValMeans</th>\n",
       "      <th>CrossValerrors</th>\n",
       "      <th>Algorithm</th>\n",
       "    </tr>\n",
       "  </thead>\n",
       "  <tbody>\n",
       "    <tr>\n",
       "      <th>0</th>\n",
       "      <td>0.574245</td>\n",
       "      <td>0.016874</td>\n",
       "      <td>SVC</td>\n",
       "    </tr>\n",
       "    <tr>\n",
       "      <th>1</th>\n",
       "      <td>0.633257</td>\n",
       "      <td>0.013295</td>\n",
       "      <td>DecisionTree</td>\n",
       "    </tr>\n",
       "    <tr>\n",
       "      <th>2</th>\n",
       "      <td>0.634572</td>\n",
       "      <td>0.012869</td>\n",
       "      <td>AdaBoost</td>\n",
       "    </tr>\n",
       "    <tr>\n",
       "      <th>3</th>\n",
       "      <td>0.723929</td>\n",
       "      <td>0.011323</td>\n",
       "      <td>RandomForest</td>\n",
       "    </tr>\n",
       "    <tr>\n",
       "      <th>4</th>\n",
       "      <td>0.695376</td>\n",
       "      <td>0.008636</td>\n",
       "      <td>ExtraTrees</td>\n",
       "    </tr>\n",
       "    <tr>\n",
       "      <th>5</th>\n",
       "      <td>0.736592</td>\n",
       "      <td>0.010326</td>\n",
       "      <td>GradientBoosting</td>\n",
       "    </tr>\n",
       "    <tr>\n",
       "      <th>6</th>\n",
       "      <td>0.668734</td>\n",
       "      <td>0.018226</td>\n",
       "      <td>MultipleLayerPerceptron</td>\n",
       "    </tr>\n",
       "    <tr>\n",
       "      <th>7</th>\n",
       "      <td>0.589896</td>\n",
       "      <td>0.013064</td>\n",
       "      <td>KNeighboors</td>\n",
       "    </tr>\n",
       "    <tr>\n",
       "      <th>8</th>\n",
       "      <td>0.672437</td>\n",
       "      <td>0.017056</td>\n",
       "      <td>LogisticRegression</td>\n",
       "    </tr>\n",
       "    <tr>\n",
       "      <th>9</th>\n",
       "      <td>0.698603</td>\n",
       "      <td>0.009740</td>\n",
       "      <td>LinearDiscriminantAnalysis</td>\n",
       "    </tr>\n",
       "    <tr>\n",
       "      <th>10</th>\n",
       "      <td>0.735756</td>\n",
       "      <td>0.011094</td>\n",
       "      <td>XGBClassifier</td>\n",
       "    </tr>\n",
       "    <tr>\n",
       "      <th>11</th>\n",
       "      <td>0.734560</td>\n",
       "      <td>0.010404</td>\n",
       "      <td>LGBMClassifier</td>\n",
       "    </tr>\n",
       "    <tr>\n",
       "      <th>12</th>\n",
       "      <td>0.740534</td>\n",
       "      <td>0.007770</td>\n",
       "      <td>CatBoostClassifier</td>\n",
       "    </tr>\n",
       "  </tbody>\n",
       "</table>\n",
       "</div>"
      ],
      "text/plain": [
       "    CrossValMeans  CrossValerrors                   Algorithm\n",
       "0        0.574245        0.016874                         SVC\n",
       "1        0.633257        0.013295                DecisionTree\n",
       "2        0.634572        0.012869                    AdaBoost\n",
       "3        0.723929        0.011323                RandomForest\n",
       "4        0.695376        0.008636                  ExtraTrees\n",
       "5        0.736592        0.010326            GradientBoosting\n",
       "6        0.668734        0.018226     MultipleLayerPerceptron\n",
       "7        0.589896        0.013064                 KNeighboors\n",
       "8        0.672437        0.017056          LogisticRegression\n",
       "9        0.698603        0.009740  LinearDiscriminantAnalysis\n",
       "10       0.735756        0.011094               XGBClassifier\n",
       "11       0.734560        0.010404              LGBMClassifier\n",
       "12       0.740534        0.007770          CatBoostClassifier"
      ]
     },
     "execution_count": 37,
     "metadata": {},
     "output_type": "execute_result"
    }
   ],
   "source": [
    "cv_results = []\n",
    "for classifier in classifiers :\n",
    "    cv_results.append(cross_val_score(classifier, X_train, y = Y_train, scoring = \"accuracy\", cv = kfold, n_jobs=4))\n",
    "\n",
    "cv_means = []\n",
    "cv_std = []\n",
    "for cv_result in cv_results:\n",
    "    cv_means.append(cv_result.mean())\n",
    "    cv_std.append(cv_result.std())\n",
    "\n",
    "cv_res = pd.DataFrame(\n",
    "    {\"CrossValMeans\":cv_means,\"CrossValerrors\": \n",
    "     cv_std,\"Algorithm\":[\n",
    "         \"SVC\",\"DecisionTree\", \"AdaBoost\", \"RandomForest\", \"ExtraTrees\",\n",
    "         \"GradientBoosting\", \"MultipleLayerPerceptron\", \"KNeighboors\",\n",
    "         \"LogisticRegression\",\"LinearDiscriminantAnalysis\", 'XGBClassifier',\n",
    "         'LGBMClassifier','CatBoostClassifier']})\n",
    "cv_res"
   ]
  },
  {
   "cell_type": "code",
   "execution_count": 44,
   "metadata": {},
   "outputs": [
    {
     "data": {
      "image/png": "[encoded data removed]",
      "text/plain": [
       "<Figure size 1440x720 with 1 Axes>"
      ]
     },
     "metadata": {},
     "output_type": "display_data"
    }
   ],
   "source": [
    "plt.figure(figsize=(20,10))\n",
    "g = sns.barplot(data = cv_res, x=\"CrossValMeans\", y=\"Algorithm\", palette=\"Set3\", orient = \"h\", **{'xerr':cv_std})\n",
    "plt.axvline(0.74)\n",
    "plt.axvline(0.72)\n",
    "g.set_xlabel(\"Mean Accuracy\")\n",
    "g = g.set_title(\"Cross validation scores\")"
   ]
  },
  {
   "cell_type": "code",
   "execution_count": null,
   "metadata": {},
   "outputs": [],
   "source": []
  }
 ],
 "metadata": {
  "kernelspec": {
   "display_name": "Python 3",
   "language": "python",
   "name": "python3"
  },
  "language_info": {
   "codemirror_mode": {
    "name": "ipython",
    "version": 3
   },
   "file_extension": ".py",
   "mimetype": "text/x-python",
   "name": "python",
   "nbconvert_exporter": "python",
   "pygments_lexer": "ipython3",
   "version": "3.7.6"
  },
  "toc": {
   "base_numbering": 1,
   "nav_menu": {},
   "number_sections": true,
   "sideBar": true,
   "skip_h1_title": false,
   "title_cell": "Table of Contents",
   "title_sidebar": "Contents",
   "toc_cell": false,
   "toc_position": {},
   "toc_section_display": true,
   "toc_window_display": false
  },
  "varInspector": {
   "cols": {
    "lenName": 16,
    "lenType": 16,
    "lenVar": 40
   },
   "kernels_config": {
    "python": {
     "delete_cmd_postfix": "",
     "delete_cmd_prefix": "del ",
     "library": "var_list.py",
     "varRefreshCmd": "print(var_dic_list())"
    },
    "r": {
     "delete_cmd_postfix": ") ",
     "delete_cmd_prefix": "rm(",
     "library": "var_list.r",
     "varRefreshCmd": "cat(var_dic_list()) "
    }
   },
   "types_to_exclude": [
    "module",
    "function",
    "builtin_function_or_method",
    "instance",
    "_Feature"
   ],
   "window_display": false
  }
 },
 "nbformat": 4,
 "nbformat_minor": 4
}
