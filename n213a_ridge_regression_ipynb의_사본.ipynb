{
  "nbformat": 4,
  "nbformat_minor": 0,
  "metadata": {
    "kernelspec": {
      "display_name": "Python 3",
      "language": "python",
      "name": "python3"
    },
    "language_info": {
      "codemirror_mode": {
        "name": "ipython",
        "version": 3
      },
      "file_extension": ".py",
      "mimetype": "text/x-python",
      "name": "python",
      "nbconvert_exporter": "python",
      "pygments_lexer": "ipython3",
      "version": "3.7.7"
    },
    "colab": {
      "name": "n213a-ridge-regression.ipynb의 사본",
      "provenance": [],
      "collapsed_sections": [],
      "include_colab_link": true
    }
  },
  "cells": [
    {
      "cell_type": "markdown",
      "metadata": {
        "id": "view-in-github",
        "colab_type": "text"
      },
      "source": [
        "<a href=\"https://colab.research.google.com/github/DamiSoh/KaggleStruggle/blob/master/n213a_ridge_regression_ipynb%EC%9D%98_%EC%82%AC%EB%B3%B8.ipynb\" target=\"_parent\"><img src=\"https://colab.research.google.com/assets/colab-badge.svg\" alt=\"Open In Colab\"/></a>"
      ]
    },
    {
      "cell_type": "markdown",
      "metadata": {
        "id": "afZUkkcGkcyo"
      },
      "source": [
        "<img align=\"right\" src=\"https://ds-cs-images.s3.ap-northeast-2.amazonaws.com/Codestates_Fulllogo_Color.png\" width=100>\n",
        "\n",
        "## *DATA SCIENCE / SECTION 2 / SPRINT 1 / NOTE 3*\n",
        "\n",
        "# 📝 Assignment\n",
        "---"
      ]
    },
    {
      "cell_type": "markdown",
      "metadata": {
        "id": "7IXUfiQ2UKj6"
      },
      "source": [
        "# Ridge Regression\n",
        "\n",
        "이번 모듈에서 배운 내용을 조금 다른 데이터를 통해 복습해 봅시다. 데이터에 대한 정보는 다음 링크를 참조해 주세요.\n",
        "\n",
        "- [Melbourne Housing Market]('https://www.kaggle.com/anthonypino/melbourne-housing-market')\n",
        "\n",
        "이번에도 Price 변수를 target으로 정하고 모델을 구성해 봅시다."
      ]
    },
    {
      "cell_type": "code",
      "metadata": {
        "id": "QJBD4ruICm1m"
      },
      "source": [
        "import pandas as pd\n",
        "from pandas_profiling import ProfileReport\n",
        "from sklearn.model_selection import train_test_split\n",
        "\n",
        "# get data\n",
        "df = pd.read_csv('https://ds-lecture-data.s3.ap-northeast-2.amazonaws.com/melbourne_house_prices/MELBOURNE_HOUSE_PRICES_LESS.csv')\n",
        "\n",
        "# drop high cardinality cols\n",
        "df.drop(columns=['Suburb','Address','SellerG','Date'], inplace=True)\n",
        "\n",
        "# drop na values in Price\n",
        "df.dropna(subset=['Price'], inplace=True)\n",
        "\n",
        "# drop duplicated rows\n",
        "df.drop_duplicates(inplace=True)\n",
        "\n"
      ],
      "execution_count": 1,
      "outputs": []
    },
    {
      "cell_type": "markdown",
      "metadata": {
        "id": "Yb68Wfb9kcyt"
      },
      "source": [
        "### 1) 데이터의 특성을 파악하기 위해 pandas_profiling을 사용해 보세요.\n",
        "- **범주형 특성으로 원핫인코딩이 꼭 필요한 특성의 갯수를 과제 제출폼에 제출하세요.**"
      ]
    },
    {
      "cell_type": "code",
      "metadata": {
        "id": "Tx5aQeBJkcyu",
        "colab": {
          "base_uri": "https://localhost:8080/",
          "height": 200
        },
        "outputId": "85a8ebe6-b4dc-414e-ff76-c227ea84ff4e"
      },
      "source": [
        "### 이곳에서 과제를 진행해 주세요 ###\n",
        "df.head()"
      ],
      "execution_count": 2,
      "outputs": [
        {
          "output_type": "execute_result",
          "data": {
            "text/html": [
              "<div>\n",
              "<style scoped>\n",
              "    .dataframe tbody tr th:only-of-type {\n",
              "        vertical-align: middle;\n",
              "    }\n",
              "\n",
              "    .dataframe tbody tr th {\n",
              "        vertical-align: top;\n",
              "    }\n",
              "\n",
              "    .dataframe thead th {\n",
              "        text-align: right;\n",
              "    }\n",
              "</style>\n",
              "<table border=\"1\" class=\"dataframe\">\n",
              "  <thead>\n",
              "    <tr style=\"text-align: right;\">\n",
              "      <th></th>\n",
              "      <th>Rooms</th>\n",
              "      <th>Type</th>\n",
              "      <th>Price</th>\n",
              "      <th>Method</th>\n",
              "      <th>Postcode</th>\n",
              "      <th>Regionname</th>\n",
              "      <th>Propertycount</th>\n",
              "      <th>Distance</th>\n",
              "      <th>CouncilArea</th>\n",
              "    </tr>\n",
              "  </thead>\n",
              "  <tbody>\n",
              "    <tr>\n",
              "      <th>0</th>\n",
              "      <td>3</td>\n",
              "      <td>h</td>\n",
              "      <td>1490000.0</td>\n",
              "      <td>S</td>\n",
              "      <td>3067</td>\n",
              "      <td>Northern Metropolitan</td>\n",
              "      <td>4019</td>\n",
              "      <td>3.0</td>\n",
              "      <td>Yarra City Council</td>\n",
              "    </tr>\n",
              "    <tr>\n",
              "      <th>1</th>\n",
              "      <td>3</td>\n",
              "      <td>h</td>\n",
              "      <td>1220000.0</td>\n",
              "      <td>S</td>\n",
              "      <td>3067</td>\n",
              "      <td>Northern Metropolitan</td>\n",
              "      <td>4019</td>\n",
              "      <td>3.0</td>\n",
              "      <td>Yarra City Council</td>\n",
              "    </tr>\n",
              "    <tr>\n",
              "      <th>2</th>\n",
              "      <td>3</td>\n",
              "      <td>h</td>\n",
              "      <td>1420000.0</td>\n",
              "      <td>S</td>\n",
              "      <td>3067</td>\n",
              "      <td>Northern Metropolitan</td>\n",
              "      <td>4019</td>\n",
              "      <td>3.0</td>\n",
              "      <td>Yarra City Council</td>\n",
              "    </tr>\n",
              "    <tr>\n",
              "      <th>3</th>\n",
              "      <td>3</td>\n",
              "      <td>h</td>\n",
              "      <td>1515000.0</td>\n",
              "      <td>S</td>\n",
              "      <td>3040</td>\n",
              "      <td>Western Metropolitan</td>\n",
              "      <td>1543</td>\n",
              "      <td>7.5</td>\n",
              "      <td>Moonee Valley City Council</td>\n",
              "    </tr>\n",
              "    <tr>\n",
              "      <th>4</th>\n",
              "      <td>2</td>\n",
              "      <td>h</td>\n",
              "      <td>670000.0</td>\n",
              "      <td>S</td>\n",
              "      <td>3042</td>\n",
              "      <td>Western Metropolitan</td>\n",
              "      <td>3464</td>\n",
              "      <td>10.4</td>\n",
              "      <td>Moonee Valley City Council</td>\n",
              "    </tr>\n",
              "  </tbody>\n",
              "</table>\n",
              "</div>"
            ],
            "text/plain": [
              "   Rooms Type      Price  ... Propertycount  Distance                 CouncilArea\n",
              "0      3    h  1490000.0  ...          4019       3.0          Yarra City Council\n",
              "1      3    h  1220000.0  ...          4019       3.0          Yarra City Council\n",
              "2      3    h  1420000.0  ...          4019       3.0          Yarra City Council\n",
              "3      3    h  1515000.0  ...          1543       7.5  Moonee Valley City Council\n",
              "4      2    h   670000.0  ...          3464      10.4  Moonee Valley City Council\n",
              "\n",
              "[5 rows x 9 columns]"
            ]
          },
          "metadata": {
            "tags": []
          },
          "execution_count": 2
        }
      ]
    },
    {
      "cell_type": "code",
      "metadata": {
        "id": "5HCUS_aymT8V",
        "colab": {
          "base_uri": "https://localhost:8080/"
        },
        "outputId": "07d773bd-5bd4-427a-cd89-a4cb28cab61f"
      },
      "source": [
        "df.shape"
      ],
      "execution_count": 3,
      "outputs": [
        {
          "output_type": "execute_result",
          "data": {
            "text/plain": [
              "(42515, 9)"
            ]
          },
          "metadata": {
            "tags": []
          },
          "execution_count": 3
        }
      ]
    },
    {
      "cell_type": "code",
      "metadata": {
        "id": "r9VRDTHvms4l"
      },
      "source": [
        "#type(3), Method(5), #regionname(8), CouncilArea (34)\n",
        "#res = 4"
      ],
      "execution_count": 4,
      "outputs": []
    },
    {
      "cell_type": "code",
      "metadata": {
        "id": "EfH72Ht8mW5t",
        "colab": {
          "base_uri": "https://localhost:8080/"
        },
        "outputId": "dadf7b2b-c453-4268-edc9-e82ef53c63c9"
      },
      "source": [
        "df['CouncilArea'].describe()"
      ],
      "execution_count": 5,
      "outputs": [
        {
          "output_type": "execute_result",
          "data": {
            "text/plain": [
              "count                       42515\n",
              "unique                         34\n",
              "top       Boroondara City Council\n",
              "freq                         3109\n",
              "Name: CouncilArea, dtype: object"
            ]
          },
          "metadata": {
            "tags": []
          },
          "execution_count": 5
        }
      ]
    },
    {
      "cell_type": "code",
      "metadata": {
        "id": "nePbx3lknXia"
      },
      "source": [
        "#profile = ProfileReport(df)\n",
        "#profile\n"
      ],
      "execution_count": 6,
      "outputs": []
    },
    {
      "cell_type": "markdown",
      "metadata": {
        "id": "261ZsiWSkcyu"
      },
      "source": [
        "### 2) 범주형 변수들에 대해 one-hot encoding(category_encoders)을 수행하고 데이터를 train/test 셋으로 무작위로 나누어 주세요.(train/test = 80%/20%)\n",
        "\n",
        "\n",
        "\n",
        "- [category_encoders.one_hot.OneHotEncoder](https://contrib.scikit-learn.org/category_encoders/onehot.html#one-hot), 파라미터는 use_cat_names = True 사용\n",
        "- 데이터 분리는 [sklearn.model_selection.train_test_split](https://scikit-learn.org/stable/modules/generated/sklearn.model_selection.train_test_split.html?highlight=train%20test%20split#sklearn-model-selection-train-test-split) 을 사용해 주세요. 사용해야 하는 파라미터는 test_size, train_size, random_state=2 입니다. 나머지는 default 사용합니다.\n",
        "- **분리된 학습데이터의 첫번째 샘플의 인덱스 값를 과제 제출폼에 제출하세요.**\n"
      ]
    },
    {
      "cell_type": "code",
      "metadata": {
        "id": "yJIFjY43kcyv",
        "colab": {
          "base_uri": "https://localhost:8080/"
        },
        "outputId": "01be866f-e3dd-42b6-c1ad-89c038dba783"
      },
      "source": [
        "### 이곳에서 과제를 진행해 주세요 ###\n",
        "#! pip install category_encoders\n",
        "\n",
        "from category_encoders import OneHotEncoder\n",
        "encoder = OneHotEncoder(use_cat_names = True)\n"
      ],
      "execution_count": 7,
      "outputs": [
        {
          "output_type": "stream",
          "text": [
            "/usr/local/lib/python3.7/dist-packages/statsmodels/tools/_testing.py:19: FutureWarning: pandas.util.testing is deprecated. Use the functions in the public API at pandas.testing instead.\n",
            "  import pandas.util.testing as tm\n"
          ],
          "name": "stderr"
        }
      ]
    },
    {
      "cell_type": "code",
      "metadata": {
        "id": "aOLmV2UIuVLi",
        "colab": {
          "base_uri": "https://localhost:8080/"
        },
        "outputId": "4128ee0e-182a-40eb-8363-7ba204fb0adf"
      },
      "source": [
        "df = encoder.fit_transform(df)\n"
      ],
      "execution_count": 8,
      "outputs": [
        {
          "output_type": "stream",
          "text": [
            "/usr/local/lib/python3.7/dist-packages/category_encoders/utils.py:21: FutureWarning: is_categorical is deprecated and will be removed in a future version.  Use is_categorical_dtype instead\n",
            "  elif pd.api.types.is_categorical(cols):\n"
          ],
          "name": "stderr"
        }
      ]
    },
    {
      "cell_type": "code",
      "metadata": {
        "id": "RsG6eir1x7la",
        "colab": {
          "base_uri": "https://localhost:8080/"
        },
        "outputId": "5fe0d002-7ae7-4108-c546-15fba3036a50"
      },
      "source": [
        "df.columns"
      ],
      "execution_count": 9,
      "outputs": [
        {
          "output_type": "execute_result",
          "data": {
            "text/plain": [
              "Index(['Rooms', 'Type_h', 'Type_t', 'Type_u', 'Price', 'Method_S', 'Method_SP',\n",
              "       'Method_VB', 'Method_PI', 'Method_SA', 'Postcode',\n",
              "       'Regionname_Northern Metropolitan', 'Regionname_Western Metropolitan',\n",
              "       'Regionname_Southern Metropolitan',\n",
              "       'Regionname_South-Eastern Metropolitan',\n",
              "       'Regionname_Eastern Metropolitan', 'Regionname_Northern Victoria',\n",
              "       'Regionname_Eastern Victoria', 'Regionname_Western Victoria',\n",
              "       'Propertycount', 'Distance', 'CouncilArea_Yarra City Council',\n",
              "       'CouncilArea_Moonee Valley City Council',\n",
              "       'CouncilArea_Port Phillip City Council',\n",
              "       'CouncilArea_Brimbank City Council', 'CouncilArea_Darebin City Council',\n",
              "       'CouncilArea_Hobsons Bay City Council',\n",
              "       'CouncilArea_Stonnington City Council',\n",
              "       'CouncilArea_Boroondara City Council',\n",
              "       'CouncilArea_Monash City Council', 'CouncilArea_Kingston City Council',\n",
              "       'CouncilArea_Maroondah City Council',\n",
              "       'CouncilArea_Bayside City Council', 'CouncilArea_Banyule City Council',\n",
              "       'CouncilArea_Glen Eira City Council',\n",
              "       'CouncilArea_Whitehorse City Council',\n",
              "       'CouncilArea_Maribyrnong City Council', 'CouncilArea_Hume City Council',\n",
              "       'CouncilArea_Moreland City Council',\n",
              "       'CouncilArea_Manningham City Council',\n",
              "       'CouncilArea_Melbourne City Council', 'CouncilArea_Melton City Council',\n",
              "       'CouncilArea_Frankston City Council', 'CouncilArea_Casey City Council',\n",
              "       'CouncilArea_Greater Dandenong City Council',\n",
              "       'CouncilArea_Nillumbik Shire Council',\n",
              "       'CouncilArea_Whittlesea City Council', 'CouncilArea_Knox City Council',\n",
              "       'CouncilArea_Wyndham City Council',\n",
              "       'CouncilArea_Yarra Ranges Shire Council',\n",
              "       'CouncilArea_Cardinia Shire Council',\n",
              "       'CouncilArea_Macedon Ranges Shire Council',\n",
              "       'CouncilArea_Mitchell Shire Council',\n",
              "       'CouncilArea_Moorabool Shire Council',\n",
              "       'CouncilArea_Murrindindi Shire Council'],\n",
              "      dtype='object')"
            ]
          },
          "metadata": {
            "tags": []
          },
          "execution_count": 9
        }
      ]
    },
    {
      "cell_type": "code",
      "metadata": {
        "id": "JRtTxWOzx16D"
      },
      "source": [
        "features = ['Rooms', 'Type_h', 'Type_t', 'Type_u', 'Method_S', 'Method_SP',\n",
        "       'Method_VB', 'Method_PI', 'Method_SA', 'Postcode',\n",
        "       'Regionname_Northern Metropolitan', 'Regionname_Western Metropolitan',\n",
        "       'Regionname_Southern Metropolitan',\n",
        "       'Regionname_South-Eastern Metropolitan',\n",
        "       'Regionname_Eastern Metropolitan', 'Regionname_Northern Victoria',\n",
        "       'Regionname_Eastern Victoria', 'Regionname_Western Victoria',\n",
        "       'Propertycount', 'Distance', 'CouncilArea_Yarra City Council',\n",
        "       'CouncilArea_Moonee Valley City Council',\n",
        "       'CouncilArea_Port Phillip City Council',\n",
        "       'CouncilArea_Brimbank City Council', 'CouncilArea_Darebin City Council',\n",
        "       'CouncilArea_Hobsons Bay City Council',\n",
        "       'CouncilArea_Stonnington City Council',\n",
        "       'CouncilArea_Boroondara City Council',\n",
        "       'CouncilArea_Monash City Council', 'CouncilArea_Kingston City Council',\n",
        "       'CouncilArea_Maroondah City Council',\n",
        "       'CouncilArea_Bayside City Council', 'CouncilArea_Banyule City Council',\n",
        "       'CouncilArea_Glen Eira City Council',\n",
        "       'CouncilArea_Whitehorse City Council',\n",
        "       'CouncilArea_Maribyrnong City Council', 'CouncilArea_Hume City Council',\n",
        "       'CouncilArea_Moreland City Council',\n",
        "       'CouncilArea_Manningham City Council',\n",
        "       'CouncilArea_Melbourne City Council', 'CouncilArea_Melton City Council',\n",
        "       'CouncilArea_Frankston City Council', 'CouncilArea_Casey City Council',\n",
        "       'CouncilArea_Greater Dandenong City Council',\n",
        "       'CouncilArea_Nillumbik Shire Council',\n",
        "       'CouncilArea_Whittlesea City Council', 'CouncilArea_Knox City Council',\n",
        "       'CouncilArea_Wyndham City Council',\n",
        "       'CouncilArea_Yarra Ranges Shire Council',\n",
        "       'CouncilArea_Cardinia Shire Council',\n",
        "       'CouncilArea_Macedon Ranges Shire Council',\n",
        "       'CouncilArea_Mitchell Shire Council',\n",
        "       'CouncilArea_Moorabool Shire Council',\n",
        "       'CouncilArea_Murrindindi Shire Council']\n",
        "target = 'Price'\n",
        "X = df[features]\n",
        "y = df[target]"
      ],
      "execution_count": 10,
      "outputs": []
    },
    {
      "cell_type": "code",
      "metadata": {
        "id": "bC2k0hc1vTFN"
      },
      "source": [
        "from sklearn.model_selection import train_test_split #test_size, train_size, random_state=2  train = 0.80, test = 0.20\n",
        "\n",
        "X_train, X_test, y_train, y_test = train_test_split(X, y, test_size = 0.2, train_size =0.8, random_state = 2 )\n"
      ],
      "execution_count": 11,
      "outputs": []
    },
    {
      "cell_type": "code",
      "metadata": {
        "id": "Cr0D3d2Vyk_I",
        "colab": {
          "base_uri": "https://localhost:8080/"
        },
        "outputId": "512a3780-872d-4821-df1e-5a43fed19c29"
      },
      "source": [
        "X_train.index[0] #res2 = 602"
      ],
      "execution_count": 12,
      "outputs": [
        {
          "output_type": "execute_result",
          "data": {
            "text/plain": [
              "602"
            ]
          },
          "metadata": {
            "tags": []
          },
          "execution_count": 12
        }
      ]
    },
    {
      "cell_type": "code",
      "metadata": {
        "id": "HLTIMueW4bIu",
        "colab": {
          "base_uri": "https://localhost:8080/"
        },
        "outputId": "21bda1b5-118c-4de0-d165-5505d221fdc0"
      },
      "source": [
        "X_train.shape"
      ],
      "execution_count": 13,
      "outputs": [
        {
          "output_type": "execute_result",
          "data": {
            "text/plain": [
              "(34012, 54)"
            ]
          },
          "metadata": {
            "tags": []
          },
          "execution_count": 13
        }
      ]
    },
    {
      "cell_type": "markdown",
      "metadata": {
        "id": "yJZqkTQSkcyv"
      },
      "source": [
        "### 3) SelectKBest를 사용해서 20개의 특성만 selection 하세요\n",
        "- score_func 에는 f_regression을 사용합니다\n",
        "- **가장 스코어(Attributes: scores_ 사용)가 높게 나온 특성의 이름을 과제 제출폼에 제출하세요.**"
      ]
    },
    {
      "cell_type": "code",
      "metadata": {
        "id": "ePxOB2Xgkcyv",
        "colab": {
          "base_uri": "https://localhost:8080/"
        },
        "outputId": "1b15db2c-7d18-48c2-b720-3539c4489024"
      },
      "source": [
        "### 이곳에서 과제를 진행해 주세요 ###\n",
        "from sklearn.feature_selection import f_regression, SelectKBest\n",
        "\n",
        "selector = SelectKBest(score_func = f_regression, k=20)\n",
        "\n",
        "X_train_selected = selector.fit_transform(X_train, y_train)\n",
        "\n",
        "X_test_selected = selector.transform(X_test)\n",
        "\n",
        "X_train_selected.shape, X_test_selected.shape"
      ],
      "execution_count": 14,
      "outputs": [
        {
          "output_type": "execute_result",
          "data": {
            "text/plain": [
              "((34012, 20), (8503, 20))"
            ]
          },
          "metadata": {
            "tags": []
          },
          "execution_count": 14
        }
      ]
    },
    {
      "cell_type": "code",
      "metadata": {
        "id": "OmDGSug65IxR",
        "colab": {
          "base_uri": "https://localhost:8080/"
        },
        "outputId": "29e8ca43-b908-4445-82b7-f4c2e43fd6cc"
      },
      "source": [
        "selector.scores_"
      ],
      "execution_count": 15,
      "outputs": [
        {
          "output_type": "execute_result",
          "data": {
            "text/plain": [
              "array([7.01402603e+03, 3.46397302e+03, 9.95939585e+01, 3.60117719e+03,\n",
              "       2.72124035e+00, 3.71085374e+02, 3.13176886e+02, 4.93153083e+01,\n",
              "       5.48849696e+00, 1.36396400e+00, 1.13002226e+03, 9.36929364e+02,\n",
              "       5.29299145e+03, 2.12740362e+02, 8.07361356e+01, 9.47922718e+01,\n",
              "       7.65995809e+01, 1.22890819e+02, 7.22590012e+01, 2.16395591e+03,\n",
              "       3.06680430e+01, 8.14875758e+00, 5.57316131e+01, 6.38039034e+02,\n",
              "       7.17963601e+01, 5.51647600e-02, 8.72533532e+02, 3.26653485e+03,\n",
              "       1.20781309e+02, 2.12817559e+01, 4.97108842e+01, 1.12726126e+03,\n",
              "       6.93557864e+01, 5.85208256e+01, 2.18947243e+01, 1.21012219e+02,\n",
              "       8.14381730e+02, 9.62941333e+01, 1.39372210e+02, 6.50797782e+00,\n",
              "       2.39754800e+02, 1.38586421e+02, 9.74261823e+01, 1.30263440e+02,\n",
              "       3.29476644e+01, 6.37945026e+02, 3.53274926e+01, 4.09675454e+02,\n",
              "       2.61352948e+01, 2.33441563e+01, 9.93011045e+00, 1.22907811e+01,\n",
              "       7.37680145e+00, 1.55238372e-01])"
            ]
          },
          "metadata": {
            "tags": []
          },
          "execution_count": 15
        }
      ]
    },
    {
      "cell_type": "code",
      "metadata": {
        "id": "S5Wiw3qW7M_d",
        "colab": {
          "base_uri": "https://localhost:8080/"
        },
        "outputId": "8c4e1817-bc29-4a3c-9c6e-e90cd4f906fc"
      },
      "source": [
        "names = X_train.columns.values[selector.get_support()]\n",
        "scores = selector.scores_[selector.get_support()]\n",
        "names_scores = list(zip(names, scores))\n",
        "ns_df = pd.DataFrame(data = names_scores, columns=['Feat_names', 'Scores'])\n",
        "ns_df_sorted = ns_df.sort_values(['Scores', 'Feat_names'], ascending = [False, True])\n",
        "print(ns_df_sorted)\n",
        "\n"
      ],
      "execution_count": 16,
      "outputs": [
        {
          "output_type": "stream",
          "text": [
            "                               Feat_names       Scores\n",
            "0                                   Rooms  7014.026028\n",
            "7        Regionname_Southern Metropolitan  5292.991447\n",
            "2                                  Type_u  3601.177189\n",
            "1                                  Type_h  3463.973018\n",
            "12    CouncilArea_Boroondara City Council  3266.534846\n",
            "9                                Distance  2163.955907\n",
            "5        Regionname_Northern Metropolitan  1130.022259\n",
            "13       CouncilArea_Bayside City Council  1127.261257\n",
            "6         Regionname_Western Metropolitan   936.929364\n",
            "11   CouncilArea_Stonnington City Council   872.533532\n",
            "14          CouncilArea_Hume City Council   814.381730\n",
            "10      CouncilArea_Brimbank City Council   638.039034\n",
            "18    CouncilArea_Whittlesea City Council   637.945026\n",
            "19       CouncilArea_Wyndham City Council   409.675454\n",
            "3                               Method_SP   371.085374\n",
            "4                               Method_VB   313.176886\n",
            "16        CouncilArea_Melton City Council   239.754800\n",
            "8   Regionname_South-Eastern Metropolitan   212.740362\n",
            "15    CouncilArea_Manningham City Council   139.372210\n",
            "17     CouncilArea_Frankston City Council   138.586421\n"
          ],
          "name": "stdout"
        }
      ]
    },
    {
      "cell_type": "code",
      "metadata": {
        "id": "nmzcezIv7lAC",
        "colab": {
          "base_uri": "https://localhost:8080/",
          "height": 35
        },
        "outputId": "6be8a505-c9b7-4851-abfe-c9e9dfbd24b9"
      },
      "source": [
        "ns_df_sorted.iloc[0][0] #res3"
      ],
      "execution_count": 17,
      "outputs": [
        {
          "output_type": "execute_result",
          "data": {
            "application/vnd.google.colaboratory.intrinsic+json": {
              "type": "string"
            },
            "text/plain": [
              "'Rooms'"
            ]
          },
          "metadata": {
            "tags": []
          },
          "execution_count": 17
        }
      ]
    },
    {
      "cell_type": "markdown",
      "metadata": {
        "id": "oRylUzTwkcyw"
      },
      "source": [
        "### 4) RidgeCV를 사용해서 회귀모델을 만들어 보세요\n",
        "- attribute는 normalize=True, cv=5를 사용하세요. 나머지는 default\n",
        "- **alphas = [0, 0.001, 0.01, 0.1, 1] 을 시도해보고 가장 좋은 점수가 나온 alpha 값을 과제 제출폼에 제출하세요.**"
      ]
    },
    {
      "cell_type": "code",
      "metadata": {
        "id": "zYp0xL_mkcyw"
      },
      "source": [
        "### 이곳에서 과제를 진행해 주세요 ###\n",
        "from sklearn.linear_model import RidgeCV\n",
        "from sklearn.metrics import mean_absolute_error, r2_score\n",
        "\n",
        "alphas = [0, 0.001, 0.01, 0.1, 1]\n"
      ],
      "execution_count": 23,
      "outputs": []
    },
    {
      "cell_type": "code",
      "metadata": {
        "colab": {
          "base_uri": "https://localhost:8080/"
        },
        "id": "EWTIjb92NDTu",
        "outputId": "f06f901f-78b7-46a5-cb06-72500ae3077d"
      },
      "source": [
        "model = RidgeCV(alphas= alphas, normalize=True, cv = 5)\n",
        "model.fit(X_train, y_train)\n",
        " \n",
        "model.alpha_ #res4 = 0.001\n"
      ],
      "execution_count": 30,
      "outputs": [
        {
          "output_type": "execute_result",
          "data": {
            "text/plain": [
              "0.001"
            ]
          },
          "metadata": {
            "tags": []
          },
          "execution_count": 30
        }
      ]
    },
    {
      "cell_type": "markdown",
      "metadata": {
        "id": "10mIfPDmkcyw"
      },
      "source": [
        "### 5) 테스트셋에 대한 MAE 값을 계산하고 모델이 잘 만들어졌는지 확인해 보세요.\n",
        "- **테스트셋에 대한 MAE 값을 과제 제출폼에 제출하세요.**"
      ]
    },
    {
      "cell_type": "code",
      "metadata": {
        "id": "OqPbkj3Kkcyx",
        "colab": {
          "base_uri": "https://localhost:8080/"
        },
        "outputId": "c8184623-b779-4b0c-dc2f-798128cb68c7"
      },
      "source": [
        "### 이곳에서 과제를 진행해 주세요 ###\n",
        "\n",
        "y_pred = model.predict(X_test)\n",
        "\n",
        "mae = mean_absolute_error(y_test, y_pred)\n",
        "r2 = r2_score(y_test, y_pred)\n",
        "\n",
        "print('res5:', mae)\n",
        "print(f'Test MAE: ${mae:,.0f}')\n",
        "print(f'Test R2: {r2:,.3f}')"
      ],
      "execution_count": 34,
      "outputs": [
        {
          "output_type": "stream",
          "text": [
            "res5: 255264.12038762574\n",
            "Test MAE: $255,264\n",
            "Test R2: 0.588\n"
          ],
          "name": "stdout"
        }
      ]
    },
    {
      "cell_type": "code",
      "metadata": {
        "colab": {
          "base_uri": "https://localhost:8080/"
        },
        "id": "POjO9RY5Pygh",
        "outputId": "39e98452-dbb8-45b6-995a-1f66167eebe3"
      },
      "source": [
        "model.alpha_"
      ],
      "execution_count": 40,
      "outputs": [
        {
          "output_type": "execute_result",
          "data": {
            "text/plain": [
              "0.001"
            ]
          },
          "metadata": {
            "tags": []
          },
          "execution_count": 40
        }
      ]
    },
    {
      "cell_type": "markdown",
      "metadata": {
        "id": "nuRZnr7mkcyx"
      },
      "source": [
        "## 🔥 도전과제"
      ]
    },
    {
      "cell_type": "markdown",
      "metadata": {
        "id": "3Kg1p6eCkcyx"
      },
      "source": [
        "### 6) best ridge regression model을 만드세요.\n",
        "    - 특성의 갯수에 제한이 없습니다.\n",
        "    - 다항회귀를 사용하세요\n",
        "    - 여러 람다값을 시도하세요\n",
        "    - 람다 0인 경우를 비교하세요\n",
        "    - RidgeCV를 사용하세요\n",
        "    - 만든 모델의 특징을 간략히 설명하고 테스트세트 성능 결과를 메신저에서 공유하세요"
      ]
    },
    {
      "cell_type": "code",
      "metadata": {
        "id": "1RSoYK2Rkcyy"
      },
      "source": [
        "### 이곳에서 과제를 진행해 주세요 ###"
      ],
      "execution_count": 20,
      "outputs": []
    }
  ]
}